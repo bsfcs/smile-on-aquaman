{
 "cells": [
  {
   "cell_type": "markdown",
   "metadata": {},
   "source": [
    "### Packages"
   ]
  },
  {
   "cell_type": "code",
   "execution_count": 1,
   "metadata": {},
   "outputs": [],
   "source": [
    "import pandas as pd\n",
    "import numpy as np\n",
    "import matplotlib.pyplot as plt\n",
    "import seaborn as sns\n",
    "\n",
    "%matplotlib inline"
   ]
  },
  {
   "cell_type": "markdown",
   "metadata": {},
   "source": [
    "#pip install xlrd"
   ]
  },
  {
   "cell_type": "markdown",
   "metadata": {},
   "source": [
    "### Reading in files"
   ]
  },
  {
   "cell_type": "code",
   "execution_count": 2,
   "metadata": {},
   "outputs": [],
   "source": [
    "smile_on = pd.read_csv('../data/SmileOn11.28.2020.csv', sep = ',', encoding='gbk', skiprows = 2, low_memory=False)\n",
    "city_info = pd.read_csv(\"../data/500_Cities__Local_Data_for_Better_Health__2019_release.csv\")\n",
    "#data_dict = pd.read_excel('../data/Data_Dictionary.xlsx')"
   ]
  },
  {
   "cell_type": "code",
   "execution_count": 3,
   "metadata": {},
   "outputs": [],
   "source": [
    "#apc = pd.read_excel('../data/2020_October_Web_Addendum_A.10212020.xlsx', skiprows = 1)\n",
    "#hcpcs = pd.read_excel('../data/2020_October_Web_Addendum_B.10212020.xlsx', skiprows = 2)\n",
    "#prov_out = pd.read_csv(\"../data/Provider_Outpatient_Hospital_Charge_Data_by_APC__CY2017.csv\", low_memory= False)\n",
    "#bill = pd.read_csv(\"../data/Medicare_Provider_Utilization_and_Payment_Data__Physician_and_Other_Supplier_PUF_CY2017.csv\", low_memory=False)"
   ]
  },
  {
   "cell_type": "markdown",
   "metadata": {},
   "source": [
    "### EDA on smile_on"
   ]
  },
  {
   "cell_type": "code",
   "execution_count": 4,
   "metadata": {},
   "outputs": [],
   "source": [
    "so_1 = smile_on[['CallReportNum', 'ReportVersion',\n",
    "'CallerNum', 'CityName','CountyName', \n",
    "'PostalCode','EnteredOn','Birth Year', \n",
    "'SMILE ON 60+ Screening - Last Screening Date',\n",
    "'SMILE ON 60+ Oral Care Encounter - What care was provided to the enrollee? (Select all that apply)',\n",
    "'SMILE ON 60+ Site Information - Enroller ID', 'SMILE ON 60+ Site Information - Enroller Location', \n",
    "'SMILE ON 60+ Treatment Plan - Is the treatment plan completed?', 'SMILE ON 60+ Treatment Plan - Was a treatment plan developed?',\n",
    "'SMILE ON 60+ Treatment Plan - Was the enrollee able to be restored to function (can chew) and \"social six\" esthetics (top front six teeth are present and disease free)', \n",
    "'SMILE ON 60+ Verification of Eligibility - Transportation Arranged', 'SMILE ON 60+ Verification of Eligibility - Verification of Eligibility']]\n"
   ]
  },
  {
   "cell_type": "markdown",
   "metadata": {},
   "source": [
    "Chaning column names"
   ]
  },
  {
   "cell_type": "code",
   "execution_count": 5,
   "metadata": {
    "scrolled": true
   },
   "outputs": [],
   "source": [
    "so_1.columns=['CallReportNum', 'ReportVersion', 'CallerNum', 'CityName', 'CountyName',\n",
    "       'PostalCode','EnteredOn', 'BirthYear',\n",
    "       'Screening - Last Screening Date',\n",
    "       'Oral Care Encounter - What care was provided to the enrollee?',\n",
    "       'Site Information - Enroller ID',\n",
    "       'Site Information - Enroller Location',\n",
    "       'Treatment Plan - Is the treatment plan completed?',\n",
    "       'Treatment Plan - Was a treatment plan developed?',\n",
    "       'Treatment Plan - Was the enrollee able to be restored to function',\n",
    "       'Verification of Eligibility Transportation Arranged',\n",
    "       'Verification of Eligibility']"
   ]
  },
  {
   "cell_type": "code",
   "execution_count": 6,
   "metadata": {
    "collapsed": true
   },
   "outputs": [
    {
     "data": {
      "text/html": [
       "<div>\n",
       "<style scoped>\n",
       "    .dataframe tbody tr th:only-of-type {\n",
       "        vertical-align: middle;\n",
       "    }\n",
       "\n",
       "    .dataframe tbody tr th {\n",
       "        vertical-align: top;\n",
       "    }\n",
       "\n",
       "    .dataframe thead th {\n",
       "        text-align: right;\n",
       "    }\n",
       "</style>\n",
       "<table border=\"1\" class=\"dataframe\">\n",
       "  <thead>\n",
       "    <tr style=\"text-align: right;\">\n",
       "      <th></th>\n",
       "      <th>CallReportNum</th>\n",
       "      <th>ReportVersion</th>\n",
       "      <th>CallerNum</th>\n",
       "      <th>CityName</th>\n",
       "      <th>CountyName</th>\n",
       "      <th>PostalCode</th>\n",
       "      <th>EnteredOn</th>\n",
       "      <th>BirthYear</th>\n",
       "      <th>Screening - Last Screening Date</th>\n",
       "      <th>Oral Care Encounter - What care was provided to the enrollee?</th>\n",
       "      <th>Site Information - Enroller ID</th>\n",
       "      <th>Site Information - Enroller Location</th>\n",
       "      <th>Treatment Plan - Is the treatment plan completed?</th>\n",
       "      <th>Treatment Plan - Was a treatment plan developed?</th>\n",
       "      <th>Treatment Plan - Was the enrollee able to be restored to function</th>\n",
       "      <th>Verification of Eligibility Transportation Arranged</th>\n",
       "      <th>Verification of Eligibility</th>\n",
       "    </tr>\n",
       "  </thead>\n",
       "  <tbody>\n",
       "    <tr>\n",
       "      <th>0</th>\n",
       "      <td>81381827</td>\n",
       "      <td>SMILE ON 60+ Registration</td>\n",
       "      <td>3859874</td>\n",
       "      <td>Springfield</td>\n",
       "      <td>Robertson</td>\n",
       "      <td>37172.0</td>\n",
       "      <td>11/25/2020 16:48</td>\n",
       "      <td>1957</td>\n",
       "      <td>NaN</td>\n",
       "      <td>NaN</td>\n",
       "      <td>Matthew Walker Comprehensive Health Center Inc...</td>\n",
       "      <td>Provider Site</td>\n",
       "      <td>NaN</td>\n",
       "      <td>NaN</td>\n",
       "      <td>NaN</td>\n",
       "      <td>NaN</td>\n",
       "      <td>NaN</td>\n",
       "    </tr>\n",
       "    <tr>\n",
       "      <th>1</th>\n",
       "      <td>81379177</td>\n",
       "      <td>SMILE ON 60+ Registration</td>\n",
       "      <td>3859755</td>\n",
       "      <td>Nashville</td>\n",
       "      <td>Davidson</td>\n",
       "      <td>37212.0</td>\n",
       "      <td>11/25/2020 15:55</td>\n",
       "      <td>1943</td>\n",
       "      <td>NaN</td>\n",
       "      <td>NaN</td>\n",
       "      <td>NaN</td>\n",
       "      <td>Health Assist Office</td>\n",
       "      <td>NaN</td>\n",
       "      <td>NaN</td>\n",
       "      <td>NaN</td>\n",
       "      <td>NaN</td>\n",
       "      <td>NaN</td>\n",
       "    </tr>\n",
       "    <tr>\n",
       "      <th>2</th>\n",
       "      <td>81377435</td>\n",
       "      <td>SMILE ON 60+ Clinical</td>\n",
       "      <td>2518680</td>\n",
       "      <td>Rogersville</td>\n",
       "      <td>Hawkins</td>\n",
       "      <td>37857.0</td>\n",
       "      <td>11/25/2020 15:02</td>\n",
       "      <td>1957</td>\n",
       "      <td>NaN</td>\n",
       "      <td>5650 - Add tooth to existing partial denture - 30</td>\n",
       "      <td>Friends in Need Health Center - Kingsport</td>\n",
       "      <td>Provider Site</td>\n",
       "      <td>Yes</td>\n",
       "      <td>Yes</td>\n",
       "      <td>Yes</td>\n",
       "      <td>NaN</td>\n",
       "      <td>NaN</td>\n",
       "    </tr>\n",
       "    <tr>\n",
       "      <th>3</th>\n",
       "      <td>81375215</td>\n",
       "      <td>SMILE ON 60+ Clinical</td>\n",
       "      <td>3231923</td>\n",
       "      <td>Memphis</td>\n",
       "      <td>Shelby</td>\n",
       "      <td>38104.0</td>\n",
       "      <td>11/25/2020 14:17</td>\n",
       "      <td>1953</td>\n",
       "      <td>NaN</td>\n",
       "      <td>No Code - Denture step Mandibular: may be used...</td>\n",
       "      <td>Christ Community Health Services- Frayser</td>\n",
       "      <td>Provider Site</td>\n",
       "      <td>NaN</td>\n",
       "      <td>NaN</td>\n",
       "      <td>NaN</td>\n",
       "      <td>NaN</td>\n",
       "      <td>NaN</td>\n",
       "    </tr>\n",
       "    <tr>\n",
       "      <th>4</th>\n",
       "      <td>81373934</td>\n",
       "      <td>SMILE ON 60+ Clinical</td>\n",
       "      <td>-1</td>\n",
       "      <td>NaN</td>\n",
       "      <td>NaN</td>\n",
       "      <td>NaN</td>\n",
       "      <td>11/25/2020 13:58</td>\n",
       "      <td>1953</td>\n",
       "      <td>11/25/2020</td>\n",
       "      <td>NaN</td>\n",
       "      <td>Neighborhood Health - Lebanon</td>\n",
       "      <td>NaN</td>\n",
       "      <td>NaN</td>\n",
       "      <td>Yes</td>\n",
       "      <td>No</td>\n",
       "      <td>NaN</td>\n",
       "      <td>Yes</td>\n",
       "    </tr>\n",
       "  </tbody>\n",
       "</table>\n",
       "</div>"
      ],
      "text/plain": [
       "   CallReportNum              ReportVersion  CallerNum     CityName  \\\n",
       "0       81381827  SMILE ON 60+ Registration    3859874  Springfield   \n",
       "1       81379177  SMILE ON 60+ Registration    3859755    Nashville   \n",
       "2       81377435      SMILE ON 60+ Clinical    2518680  Rogersville   \n",
       "3       81375215      SMILE ON 60+ Clinical    3231923      Memphis   \n",
       "4       81373934      SMILE ON 60+ Clinical         -1          NaN   \n",
       "\n",
       "  CountyName  PostalCode         EnteredOn BirthYear  \\\n",
       "0  Robertson     37172.0  11/25/2020 16:48      1957   \n",
       "1   Davidson     37212.0  11/25/2020 15:55      1943   \n",
       "2    Hawkins     37857.0  11/25/2020 15:02      1957   \n",
       "3     Shelby     38104.0  11/25/2020 14:17      1953   \n",
       "4        NaN         NaN  11/25/2020 13:58      1953   \n",
       "\n",
       "  Screening - Last Screening Date  \\\n",
       "0                             NaN   \n",
       "1                             NaN   \n",
       "2                             NaN   \n",
       "3                             NaN   \n",
       "4                      11/25/2020   \n",
       "\n",
       "  Oral Care Encounter - What care was provided to the enrollee?  \\\n",
       "0                                                NaN              \n",
       "1                                                NaN              \n",
       "2  5650 - Add tooth to existing partial denture - 30              \n",
       "3  No Code - Denture step Mandibular: may be used...              \n",
       "4                                                NaN              \n",
       "\n",
       "                      Site Information - Enroller ID  \\\n",
       "0  Matthew Walker Comprehensive Health Center Inc...   \n",
       "1                                                NaN   \n",
       "2          Friends in Need Health Center - Kingsport   \n",
       "3          Christ Community Health Services- Frayser   \n",
       "4                      Neighborhood Health - Lebanon   \n",
       "\n",
       "  Site Information - Enroller Location  \\\n",
       "0                        Provider Site   \n",
       "1                 Health Assist Office   \n",
       "2                        Provider Site   \n",
       "3                        Provider Site   \n",
       "4                                  NaN   \n",
       "\n",
       "  Treatment Plan - Is the treatment plan completed?  \\\n",
       "0                                               NaN   \n",
       "1                                               NaN   \n",
       "2                                               Yes   \n",
       "3                                               NaN   \n",
       "4                                               NaN   \n",
       "\n",
       "  Treatment Plan - Was a treatment plan developed?  \\\n",
       "0                                              NaN   \n",
       "1                                              NaN   \n",
       "2                                              Yes   \n",
       "3                                              NaN   \n",
       "4                                              Yes   \n",
       "\n",
       "  Treatment Plan - Was the enrollee able to be restored to function  \\\n",
       "0                                                NaN                  \n",
       "1                                                NaN                  \n",
       "2                                                Yes                  \n",
       "3                                                NaN                  \n",
       "4                                                 No                  \n",
       "\n",
       "  Verification of Eligibility Transportation Arranged  \\\n",
       "0                                                NaN    \n",
       "1                                                NaN    \n",
       "2                                                NaN    \n",
       "3                                                NaN    \n",
       "4                                                NaN    \n",
       "\n",
       "  Verification of Eligibility  \n",
       "0                         NaN  \n",
       "1                         NaN  \n",
       "2                         NaN  \n",
       "3                         NaN  \n",
       "4                         Yes  "
      ]
     },
     "execution_count": 6,
     "metadata": {},
     "output_type": "execute_result"
    }
   ],
   "source": [
    "so_1.head()"
   ]
  },
  {
   "cell_type": "code",
   "execution_count": 7,
   "metadata": {},
   "outputs": [],
   "source": [
    "so_1 = so_1[(so_1['CallerNum'] != -1) & (so_1['CallerNum'] != -2)]"
   ]
  },
  {
   "cell_type": "code",
   "execution_count": 8,
   "metadata": {},
   "outputs": [],
   "source": [
    "treatment_plan= so_1[so_1['Treatment Plan - Is the treatment plan completed?']=='Yes']"
   ]
  },
  {
   "cell_type": "code",
   "execution_count": 9,
   "metadata": {},
   "outputs": [],
   "source": [
    "treatment_plan = treatment_plan.sort_values(by = 'EnteredOn')"
   ]
  },
  {
   "cell_type": "code",
   "execution_count": 10,
   "metadata": {},
   "outputs": [],
   "source": [
    "treatment_plan_patients = treatment_plan.drop_duplicates(['CallerNum'], keep='last')"
   ]
  },
  {
   "cell_type": "code",
   "execution_count": 23,
   "metadata": {},
   "outputs": [
    {
     "data": {
      "text/plain": [
       "(2987, 17)"
      ]
     },
     "execution_count": 23,
     "metadata": {},
     "output_type": "execute_result"
    }
   ],
   "source": [
    "treatment_plan_patients.shape"
   ]
  },
  {
   "cell_type": "code",
   "execution_count": 11,
   "metadata": {},
   "outputs": [],
   "source": [
    "#so_1['PostalCode']=np.int64(so_1['PostalCode'])"
   ]
  },
  {
   "cell_type": "code",
   "execution_count": 12,
   "metadata": {},
   "outputs": [],
   "source": [
    "#so_1[['DateEntered','Time']] = so_1.EnteredOn.str.split(\" \", expand=True)\n"
   ]
  },
  {
   "cell_type": "code",
   "execution_count": 13,
   "metadata": {},
   "outputs": [],
   "source": [
    "#pd.to_datetime(so_1['EnteredOn'])"
   ]
  },
  {
   "cell_type": "markdown",
   "metadata": {},
   "source": [
    "### EDA on city_info"
   ]
  },
  {
   "cell_type": "code",
   "execution_count": 18,
   "metadata": {},
   "outputs": [],
   "source": [
    "#city_info.head(2)"
   ]
  },
  {
   "cell_type": "code",
   "execution_count": 19,
   "metadata": {},
   "outputs": [],
   "source": [
    "#city_info=city_info[city_info[\"StateAbbr\"].isin([\"TN\"])]\n",
    "#city_info.head()"
   ]
  },
  {
   "cell_type": "code",
   "execution_count": 20,
   "metadata": {},
   "outputs": [],
   "source": [
    "#city_info['Measure'].value_counts()"
   ]
  },
  {
   "cell_type": "code",
   "execution_count": 21,
   "metadata": {},
   "outputs": [],
   "source": [
    "#city_info.isnull().sum()"
   ]
  },
  {
   "cell_type": "code",
   "execution_count": null,
   "metadata": {},
   "outputs": [],
   "source": []
  }
 ],
 "metadata": {
  "kernelspec": {
   "display_name": "Python 3",
   "language": "python",
   "name": "python3"
  },
  "language_info": {
   "codemirror_mode": {
    "name": "ipython",
    "version": 3
   },
   "file_extension": ".py",
   "mimetype": "text/x-python",
   "name": "python",
   "nbconvert_exporter": "python",
   "pygments_lexer": "ipython3",
   "version": "3.8.3"
  }
 },
 "nbformat": 4,
 "nbformat_minor": 4
}
