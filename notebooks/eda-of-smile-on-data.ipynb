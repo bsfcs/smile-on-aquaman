{
 "cells": [
  {
   "cell_type": "markdown",
   "metadata": {},
   "source": [
    "### Packages"
   ]
  },
  {
   "cell_type": "code",
   "execution_count": 1,
   "metadata": {},
   "outputs": [],
   "source": [
    "import pandas as pd\n",
    "import numpy as np\n",
    "import matplotlib.pyplot as plt\n",
    "import seaborn as sns\n",
    "from shapely.geometry import Point\n",
    "import geopandas as gpd\n",
    "import folium\n",
    "import re\n",
    "from folium.plugins import MarkerCluster\n",
    "from folium.plugins import FastMarkerCluster\n",
    "%matplotlib inline"
   ]
  },
  {
   "cell_type": "code",
   "execution_count": 2,
   "metadata": {
    "scrolled": true
   },
   "outputs": [
    {
     "name": "stdout",
     "output_type": "stream",
     "text": [
      "Requirement already satisfied: seaborn in /opt/anaconda3/envs/geospatial/lib/python3.8/site-packages (0.11.0)\n",
      "Requirement already satisfied: matplotlib>=2.2 in /opt/anaconda3/envs/geospatial/lib/python3.8/site-packages (from seaborn) (3.3.1)\n",
      "Requirement already satisfied: scipy>=1.0 in /opt/anaconda3/envs/geospatial/lib/python3.8/site-packages (from seaborn) (1.5.4)\n",
      "Requirement already satisfied: pandas>=0.23 in /opt/anaconda3/envs/geospatial/lib/python3.8/site-packages (from seaborn) (1.1.4)\n",
      "Requirement already satisfied: numpy>=1.15 in /opt/anaconda3/envs/geospatial/lib/python3.8/site-packages (from seaborn) (1.19.4)\n",
      "Requirement already satisfied: pillow>=6.2.0 in /opt/anaconda3/envs/geospatial/lib/python3.8/site-packages (from matplotlib>=2.2->seaborn) (8.0.1)\n",
      "Requirement already satisfied: cycler>=0.10 in /opt/anaconda3/envs/geospatial/lib/python3.8/site-packages (from matplotlib>=2.2->seaborn) (0.10.0)\n",
      "Requirement already satisfied: kiwisolver>=1.0.1 in /opt/anaconda3/envs/geospatial/lib/python3.8/site-packages (from matplotlib>=2.2->seaborn) (1.3.1)\n",
      "Requirement already satisfied: pyparsing!=2.0.4,!=2.1.2,!=2.1.6,>=2.0.3 in /opt/anaconda3/envs/geospatial/lib/python3.8/site-packages (from matplotlib>=2.2->seaborn) (2.4.7)\n",
      "Requirement already satisfied: python-dateutil>=2.1 in /opt/anaconda3/envs/geospatial/lib/python3.8/site-packages (from matplotlib>=2.2->seaborn) (2.8.1)\n",
      "Requirement already satisfied: certifi>=2020.06.20 in /opt/anaconda3/envs/geospatial/lib/python3.8/site-packages (from matplotlib>=2.2->seaborn) (2020.6.20)\n",
      "Requirement already satisfied: pytz>=2017.2 in /opt/anaconda3/envs/geospatial/lib/python3.8/site-packages (from pandas>=0.23->seaborn) (2020.4)\n",
      "Requirement already satisfied: six in /opt/anaconda3/envs/geospatial/lib/python3.8/site-packages (from cycler>=0.10->matplotlib>=2.2->seaborn) (1.15.0)\n",
      "Note: you may need to restart the kernel to use updated packages.\n"
     ]
    }
   ],
   "source": [
    "pip install seaborn"
   ]
  },
  {
   "cell_type": "markdown",
   "metadata": {},
   "source": [
    "#pip install xlrd"
   ]
  },
  {
   "cell_type": "markdown",
   "metadata": {},
   "source": [
    "### Reading in files"
   ]
  },
  {
   "cell_type": "code",
   "execution_count": 3,
   "metadata": {},
   "outputs": [],
   "source": [
    "smile_on = pd.read_csv('../data/SmileOn11.28.2020.csv', sep = ',', encoding='gbk', skiprows = 2, low_memory=False)\n",
    "city_info = pd.read_csv(\"../data/500_Cities__Local_Data_for_Better_Health__2019_release.csv\")\n",
    "#data_dict = pd.read_excel('../data/Data_Dictionary.xlsx')"
   ]
  },
  {
   "cell_type": "code",
   "execution_count": 4,
   "metadata": {},
   "outputs": [],
   "source": [
    "#apc = pd.read_excel('../data/2020_October_Web_Addendum_A.10212020.xlsx', skiprows = 1)\n",
    "#hcpcs = pd.read_excel('../data/2020_October_Web_Addendum_B.10212020.xlsx', skiprows = 2)\n",
    "#prov_out = pd.read_csv(\"../data/Provider_Outpatient_Hospital_Charge_Data_by_APC__CY2017.csv\", low_memory= False)\n",
    "#bill = pd.read_csv(\"../data/Medicare_Provider_Utilization_and_Payment_Data__Physician_and_Other_Supplier_PUF_CY2017.csv\", low_memory=False)"
   ]
  },
  {
   "cell_type": "markdown",
   "metadata": {},
   "source": [
    "### EDA on smile_on"
   ]
  },
  {
   "cell_type": "code",
   "execution_count": 5,
   "metadata": {},
   "outputs": [],
   "source": [
    "so_1 = smile_on[['CallReportNum', 'ReportVersion',\n",
    "'CallerNum', 'CityName','CountyName', \n",
    "'PostalCode','EnteredOn','Birth Year', \n",
    "'SMILE ON 60+ Screening - Last Screening Date',\n",
    "'SMILE ON 60+ Oral Care Encounter - What care was provided to the enrollee? (Select all that apply)',\n",
    "'SMILE ON 60+ Site Information - Enroller ID', 'SMILE ON 60+ Site Information - Enroller Location', \n",
    "'SMILE ON 60+ Treatment Plan - Is the treatment plan completed?', 'SMILE ON 60+ Treatment Plan - Was a treatment plan developed?',\n",
    "'SMILE ON 60+ Treatment Plan - Was the enrollee able to be restored to function (can chew) and \"social six\" esthetics (top front six teeth are present and disease free)', \n",
    "'SMILE ON 60+ Verification of Eligibility - Transportation Arranged', 'SMILE ON 60+ Verification of Eligibility - Verification of Eligibility']]\n"
   ]
  },
  {
   "cell_type": "markdown",
   "metadata": {},
   "source": [
    "Chaning column names"
   ]
  },
  {
   "cell_type": "code",
   "execution_count": 6,
   "metadata": {
    "scrolled": true
   },
   "outputs": [],
   "source": [
    "so_1.columns=['CallReportNum', 'ReportVersion', 'CallerNum', 'CityName', 'CountyName',\n",
    "       'PostalCode','EnteredOn', 'BirthYear',\n",
    "       'Screening - Last Screening Date',\n",
    "       'Oral Care Encounter - What care was provided to the enrollee?',\n",
    "       'Site Information - Enroller ID',\n",
    "       'Site Information - Enroller Location',\n",
    "       'Treatment Plan - Is the treatment plan completed?',\n",
    "       'Treatment Plan - Was a treatment plan developed?',\n",
    "       'Treatment Plan - Was the enrollee able to be restored to function',\n",
    "       'Verification of Eligibility Transportation Arranged',\n",
    "       'Verification of Eligibility']"
   ]
  },
  {
   "cell_type": "code",
   "execution_count": 7,
   "metadata": {},
   "outputs": [
    {
     "data": {
      "text/html": [
       "<div>\n",
       "<style scoped>\n",
       "    .dataframe tbody tr th:only-of-type {\n",
       "        vertical-align: middle;\n",
       "    }\n",
       "\n",
       "    .dataframe tbody tr th {\n",
       "        vertical-align: top;\n",
       "    }\n",
       "\n",
       "    .dataframe thead th {\n",
       "        text-align: right;\n",
       "    }\n",
       "</style>\n",
       "<table border=\"1\" class=\"dataframe\">\n",
       "  <thead>\n",
       "    <tr style=\"text-align: right;\">\n",
       "      <th></th>\n",
       "      <th>CallReportNum</th>\n",
       "      <th>ReportVersion</th>\n",
       "      <th>CallerNum</th>\n",
       "      <th>CityName</th>\n",
       "      <th>CountyName</th>\n",
       "      <th>PostalCode</th>\n",
       "      <th>EnteredOn</th>\n",
       "      <th>BirthYear</th>\n",
       "      <th>Screening - Last Screening Date</th>\n",
       "      <th>Oral Care Encounter - What care was provided to the enrollee?</th>\n",
       "      <th>Site Information - Enroller ID</th>\n",
       "      <th>Site Information - Enroller Location</th>\n",
       "      <th>Treatment Plan - Is the treatment plan completed?</th>\n",
       "      <th>Treatment Plan - Was a treatment plan developed?</th>\n",
       "      <th>Treatment Plan - Was the enrollee able to be restored to function</th>\n",
       "      <th>Verification of Eligibility Transportation Arranged</th>\n",
       "      <th>Verification of Eligibility</th>\n",
       "    </tr>\n",
       "  </thead>\n",
       "  <tbody>\n",
       "    <tr>\n",
       "      <th>0</th>\n",
       "      <td>81381827</td>\n",
       "      <td>SMILE ON 60+ Registration</td>\n",
       "      <td>3859874</td>\n",
       "      <td>Springfield</td>\n",
       "      <td>Robertson</td>\n",
       "      <td>37172.0</td>\n",
       "      <td>11/25/2020 16:48</td>\n",
       "      <td>1957</td>\n",
       "      <td>NaN</td>\n",
       "      <td>NaN</td>\n",
       "      <td>Matthew Walker Comprehensive Health Center Inc...</td>\n",
       "      <td>Provider Site</td>\n",
       "      <td>NaN</td>\n",
       "      <td>NaN</td>\n",
       "      <td>NaN</td>\n",
       "      <td>NaN</td>\n",
       "      <td>NaN</td>\n",
       "    </tr>\n",
       "    <tr>\n",
       "      <th>1</th>\n",
       "      <td>81379177</td>\n",
       "      <td>SMILE ON 60+ Registration</td>\n",
       "      <td>3859755</td>\n",
       "      <td>Nashville</td>\n",
       "      <td>Davidson</td>\n",
       "      <td>37212.0</td>\n",
       "      <td>11/25/2020 15:55</td>\n",
       "      <td>1943</td>\n",
       "      <td>NaN</td>\n",
       "      <td>NaN</td>\n",
       "      <td>NaN</td>\n",
       "      <td>Health Assist Office</td>\n",
       "      <td>NaN</td>\n",
       "      <td>NaN</td>\n",
       "      <td>NaN</td>\n",
       "      <td>NaN</td>\n",
       "      <td>NaN</td>\n",
       "    </tr>\n",
       "    <tr>\n",
       "      <th>2</th>\n",
       "      <td>81377435</td>\n",
       "      <td>SMILE ON 60+ Clinical</td>\n",
       "      <td>2518680</td>\n",
       "      <td>Rogersville</td>\n",
       "      <td>Hawkins</td>\n",
       "      <td>37857.0</td>\n",
       "      <td>11/25/2020 15:02</td>\n",
       "      <td>1957</td>\n",
       "      <td>NaN</td>\n",
       "      <td>5650 - Add tooth to existing partial denture - 30</td>\n",
       "      <td>Friends in Need Health Center - Kingsport</td>\n",
       "      <td>Provider Site</td>\n",
       "      <td>Yes</td>\n",
       "      <td>Yes</td>\n",
       "      <td>Yes</td>\n",
       "      <td>NaN</td>\n",
       "      <td>NaN</td>\n",
       "    </tr>\n",
       "    <tr>\n",
       "      <th>3</th>\n",
       "      <td>81375215</td>\n",
       "      <td>SMILE ON 60+ Clinical</td>\n",
       "      <td>3231923</td>\n",
       "      <td>Memphis</td>\n",
       "      <td>Shelby</td>\n",
       "      <td>38104.0</td>\n",
       "      <td>11/25/2020 14:17</td>\n",
       "      <td>1953</td>\n",
       "      <td>NaN</td>\n",
       "      <td>No Code - Denture step Mandibular: may be used...</td>\n",
       "      <td>Christ Community Health Services- Frayser</td>\n",
       "      <td>Provider Site</td>\n",
       "      <td>NaN</td>\n",
       "      <td>NaN</td>\n",
       "      <td>NaN</td>\n",
       "      <td>NaN</td>\n",
       "      <td>NaN</td>\n",
       "    </tr>\n",
       "    <tr>\n",
       "      <th>4</th>\n",
       "      <td>81373934</td>\n",
       "      <td>SMILE ON 60+ Clinical</td>\n",
       "      <td>-1</td>\n",
       "      <td>NaN</td>\n",
       "      <td>NaN</td>\n",
       "      <td>NaN</td>\n",
       "      <td>11/25/2020 13:58</td>\n",
       "      <td>1953</td>\n",
       "      <td>11/25/2020</td>\n",
       "      <td>NaN</td>\n",
       "      <td>Neighborhood Health - Lebanon</td>\n",
       "      <td>NaN</td>\n",
       "      <td>NaN</td>\n",
       "      <td>Yes</td>\n",
       "      <td>No</td>\n",
       "      <td>NaN</td>\n",
       "      <td>Yes</td>\n",
       "    </tr>\n",
       "  </tbody>\n",
       "</table>\n",
       "</div>"
      ],
      "text/plain": [
       "   CallReportNum              ReportVersion  CallerNum     CityName  \\\n",
       "0       81381827  SMILE ON 60+ Registration    3859874  Springfield   \n",
       "1       81379177  SMILE ON 60+ Registration    3859755    Nashville   \n",
       "2       81377435      SMILE ON 60+ Clinical    2518680  Rogersville   \n",
       "3       81375215      SMILE ON 60+ Clinical    3231923      Memphis   \n",
       "4       81373934      SMILE ON 60+ Clinical         -1          NaN   \n",
       "\n",
       "  CountyName  PostalCode         EnteredOn BirthYear  \\\n",
       "0  Robertson     37172.0  11/25/2020 16:48      1957   \n",
       "1   Davidson     37212.0  11/25/2020 15:55      1943   \n",
       "2    Hawkins     37857.0  11/25/2020 15:02      1957   \n",
       "3     Shelby     38104.0  11/25/2020 14:17      1953   \n",
       "4        NaN         NaN  11/25/2020 13:58      1953   \n",
       "\n",
       "  Screening - Last Screening Date  \\\n",
       "0                             NaN   \n",
       "1                             NaN   \n",
       "2                             NaN   \n",
       "3                             NaN   \n",
       "4                      11/25/2020   \n",
       "\n",
       "  Oral Care Encounter - What care was provided to the enrollee?  \\\n",
       "0                                                NaN              \n",
       "1                                                NaN              \n",
       "2  5650 - Add tooth to existing partial denture - 30              \n",
       "3  No Code - Denture step Mandibular: may be used...              \n",
       "4                                                NaN              \n",
       "\n",
       "                      Site Information - Enroller ID  \\\n",
       "0  Matthew Walker Comprehensive Health Center Inc...   \n",
       "1                                                NaN   \n",
       "2          Friends in Need Health Center - Kingsport   \n",
       "3          Christ Community Health Services- Frayser   \n",
       "4                      Neighborhood Health - Lebanon   \n",
       "\n",
       "  Site Information - Enroller Location  \\\n",
       "0                        Provider Site   \n",
       "1                 Health Assist Office   \n",
       "2                        Provider Site   \n",
       "3                        Provider Site   \n",
       "4                                  NaN   \n",
       "\n",
       "  Treatment Plan - Is the treatment plan completed?  \\\n",
       "0                                               NaN   \n",
       "1                                               NaN   \n",
       "2                                               Yes   \n",
       "3                                               NaN   \n",
       "4                                               NaN   \n",
       "\n",
       "  Treatment Plan - Was a treatment plan developed?  \\\n",
       "0                                              NaN   \n",
       "1                                              NaN   \n",
       "2                                              Yes   \n",
       "3                                              NaN   \n",
       "4                                              Yes   \n",
       "\n",
       "  Treatment Plan - Was the enrollee able to be restored to function  \\\n",
       "0                                                NaN                  \n",
       "1                                                NaN                  \n",
       "2                                                Yes                  \n",
       "3                                                NaN                  \n",
       "4                                                 No                  \n",
       "\n",
       "  Verification of Eligibility Transportation Arranged  \\\n",
       "0                                                NaN    \n",
       "1                                                NaN    \n",
       "2                                                NaN    \n",
       "3                                                NaN    \n",
       "4                                                NaN    \n",
       "\n",
       "  Verification of Eligibility  \n",
       "0                         NaN  \n",
       "1                         NaN  \n",
       "2                         NaN  \n",
       "3                         NaN  \n",
       "4                         Yes  "
      ]
     },
     "execution_count": 7,
     "metadata": {},
     "output_type": "execute_result"
    }
   ],
   "source": [
    "so_1.head()"
   ]
  },
  {
   "cell_type": "code",
   "execution_count": 8,
   "metadata": {},
   "outputs": [],
   "source": [
    "so_1 = so_1[(so_1['CallerNum'] != -1) & (so_1['CallerNum'] != -2)]"
   ]
  },
  {
   "cell_type": "code",
   "execution_count": 9,
   "metadata": {},
   "outputs": [],
   "source": [
    "treatment_plan= so_1[so_1['Treatment Plan - Is the treatment plan completed?']=='Yes']"
   ]
  },
  {
   "cell_type": "code",
   "execution_count": 10,
   "metadata": {},
   "outputs": [],
   "source": [
    "treatment_plan = treatment_plan.sort_values(by = 'EnteredOn')"
   ]
  },
  {
   "cell_type": "code",
   "execution_count": 11,
   "metadata": {},
   "outputs": [],
   "source": [
    "treatment_plan_patients = treatment_plan.drop_duplicates(['CallerNum'], keep='last')"
   ]
  },
  {
   "cell_type": "code",
   "execution_count": 12,
   "metadata": {},
   "outputs": [
    {
     "data": {
      "text/plain": [
       "(2987, 17)"
      ]
     },
     "execution_count": 12,
     "metadata": {},
     "output_type": "execute_result"
    }
   ],
   "source": [
    "treatment_plan_patients.shape"
   ]
  },
  {
   "cell_type": "code",
   "execution_count": 13,
   "metadata": {},
   "outputs": [
    {
     "data": {
      "text/plain": [
       "(2653, 17)"
      ]
     },
     "execution_count": 13,
     "metadata": {},
     "output_type": "execute_result"
    }
   ],
   "source": [
    "treatment_plan_restored= treatment_plan_patients[treatment_plan_patients['Treatment Plan - Was the enrollee able to be restored to function']=='Yes']\n",
    "treatment_plan_restored.shape\n"
   ]
  },
  {
   "cell_type": "code",
   "execution_count": 14,
   "metadata": {
    "scrolled": false
   },
   "outputs": [
    {
     "data": {
      "text/plain": [
       "Yes    2653\n",
       "No       86\n",
       "Name: Treatment Plan - Was the enrollee able to be restored to function, dtype: int64"
      ]
     },
     "execution_count": 14,
     "metadata": {},
     "output_type": "execute_result"
    }
   ],
   "source": [
    "treatment_plan_patients['Treatment Plan - Was the enrollee able to be restored to function'].value_counts()"
   ]
  },
  {
   "cell_type": "code",
   "execution_count": 15,
   "metadata": {},
   "outputs": [],
   "source": [
    "patients_restored= so_1[so_1['Treatment Plan - Was the enrollee able to be restored to function'].isin(['Yes','No'])]"
   ]
  },
  {
   "cell_type": "code",
   "execution_count": 16,
   "metadata": {},
   "outputs": [
    {
     "data": {
      "text/html": [
       "<div>\n",
       "<style scoped>\n",
       "    .dataframe tbody tr th:only-of-type {\n",
       "        vertical-align: middle;\n",
       "    }\n",
       "\n",
       "    .dataframe tbody tr th {\n",
       "        vertical-align: top;\n",
       "    }\n",
       "\n",
       "    .dataframe thead th {\n",
       "        text-align: right;\n",
       "    }\n",
       "</style>\n",
       "<table border=\"1\" class=\"dataframe\">\n",
       "  <thead>\n",
       "    <tr style=\"text-align: right;\">\n",
       "      <th></th>\n",
       "      <th>CallReportNum</th>\n",
       "      <th>ReportVersion</th>\n",
       "      <th>CallerNum</th>\n",
       "      <th>CityName</th>\n",
       "      <th>CountyName</th>\n",
       "      <th>PostalCode</th>\n",
       "      <th>EnteredOn</th>\n",
       "      <th>BirthYear</th>\n",
       "      <th>Screening - Last Screening Date</th>\n",
       "      <th>Oral Care Encounter - What care was provided to the enrollee?</th>\n",
       "      <th>Site Information - Enroller ID</th>\n",
       "      <th>Site Information - Enroller Location</th>\n",
       "      <th>Treatment Plan - Is the treatment plan completed?</th>\n",
       "      <th>Treatment Plan - Was a treatment plan developed?</th>\n",
       "      <th>Treatment Plan - Was the enrollee able to be restored to function</th>\n",
       "      <th>Verification of Eligibility Transportation Arranged</th>\n",
       "      <th>Verification of Eligibility</th>\n",
       "    </tr>\n",
       "  </thead>\n",
       "  <tbody>\n",
       "    <tr>\n",
       "      <th>2</th>\n",
       "      <td>81377435</td>\n",
       "      <td>SMILE ON 60+ Clinical</td>\n",
       "      <td>2518680</td>\n",
       "      <td>Rogersville</td>\n",
       "      <td>Hawkins</td>\n",
       "      <td>37857.0</td>\n",
       "      <td>11/25/2020 15:02</td>\n",
       "      <td>1957</td>\n",
       "      <td>NaN</td>\n",
       "      <td>5650 - Add tooth to existing partial denture - 30</td>\n",
       "      <td>Friends in Need Health Center - Kingsport</td>\n",
       "      <td>Provider Site</td>\n",
       "      <td>Yes</td>\n",
       "      <td>Yes</td>\n",
       "      <td>Yes</td>\n",
       "      <td>NaN</td>\n",
       "      <td>NaN</td>\n",
       "    </tr>\n",
       "    <tr>\n",
       "      <th>13</th>\n",
       "      <td>81360780</td>\n",
       "      <td>SMILE ON 60+ Clinical</td>\n",
       "      <td>3172525</td>\n",
       "      <td>Cleveland</td>\n",
       "      <td>Bradley</td>\n",
       "      <td>37312.0</td>\n",
       "      <td>11/25/2020 9:36</td>\n",
       "      <td>1959</td>\n",
       "      <td>2/7/2020</td>\n",
       "      <td>No Code - Denture step Mandibular: may be used...</td>\n",
       "      <td>Karis Dental Clinic - Cleveland</td>\n",
       "      <td>Provider Site</td>\n",
       "      <td>No</td>\n",
       "      <td>NaN</td>\n",
       "      <td>Yes</td>\n",
       "      <td>NaN</td>\n",
       "      <td>NaN</td>\n",
       "    </tr>\n",
       "  </tbody>\n",
       "</table>\n",
       "</div>"
      ],
      "text/plain": [
       "    CallReportNum          ReportVersion  CallerNum     CityName CountyName  \\\n",
       "2        81377435  SMILE ON 60+ Clinical    2518680  Rogersville    Hawkins   \n",
       "13       81360780  SMILE ON 60+ Clinical    3172525    Cleveland    Bradley   \n",
       "\n",
       "    PostalCode         EnteredOn BirthYear Screening - Last Screening Date  \\\n",
       "2      37857.0  11/25/2020 15:02      1957                             NaN   \n",
       "13     37312.0   11/25/2020 9:36      1959                        2/7/2020   \n",
       "\n",
       "   Oral Care Encounter - What care was provided to the enrollee?  \\\n",
       "2   5650 - Add tooth to existing partial denture - 30              \n",
       "13  No Code - Denture step Mandibular: may be used...              \n",
       "\n",
       "               Site Information - Enroller ID  \\\n",
       "2   Friends in Need Health Center - Kingsport   \n",
       "13            Karis Dental Clinic - Cleveland   \n",
       "\n",
       "   Site Information - Enroller Location  \\\n",
       "2                         Provider Site   \n",
       "13                        Provider Site   \n",
       "\n",
       "   Treatment Plan - Is the treatment plan completed?  \\\n",
       "2                                                Yes   \n",
       "13                                                No   \n",
       "\n",
       "   Treatment Plan - Was a treatment plan developed?  \\\n",
       "2                                               Yes   \n",
       "13                                              NaN   \n",
       "\n",
       "   Treatment Plan - Was the enrollee able to be restored to function  \\\n",
       "2                                                 Yes                  \n",
       "13                                                Yes                  \n",
       "\n",
       "   Verification of Eligibility Transportation Arranged  \\\n",
       "2                                                 NaN    \n",
       "13                                                NaN    \n",
       "\n",
       "   Verification of Eligibility  \n",
       "2                          NaN  \n",
       "13                         NaN  "
      ]
     },
     "execution_count": 16,
     "metadata": {},
     "output_type": "execute_result"
    }
   ],
   "source": [
    "patients_restored.head(2)"
   ]
  },
  {
   "cell_type": "code",
   "execution_count": 17,
   "metadata": {},
   "outputs": [],
   "source": [
    "patients_restored = patients_restored.sort_values(by = 'EnteredOn')"
   ]
  },
  {
   "cell_type": "code",
   "execution_count": 18,
   "metadata": {},
   "outputs": [
    {
     "data": {
      "text/plain": [
       "(4575, 17)"
      ]
     },
     "execution_count": 18,
     "metadata": {},
     "output_type": "execute_result"
    }
   ],
   "source": [
    "patients_restored = patients_restored.drop_duplicates(['CallerNum'], keep='last')\n",
    "patients_restored.shape"
   ]
  },
  {
   "cell_type": "code",
   "execution_count": 19,
   "metadata": {},
   "outputs": [
    {
     "data": {
      "text/html": [
       "<div>\n",
       "<style scoped>\n",
       "    .dataframe tbody tr th:only-of-type {\n",
       "        vertical-align: middle;\n",
       "    }\n",
       "\n",
       "    .dataframe tbody tr th {\n",
       "        vertical-align: top;\n",
       "    }\n",
       "\n",
       "    .dataframe thead th {\n",
       "        text-align: right;\n",
       "    }\n",
       "</style>\n",
       "<table border=\"1\" class=\"dataframe\">\n",
       "  <thead>\n",
       "    <tr style=\"text-align: right;\">\n",
       "      <th></th>\n",
       "      <th>CallReportNum</th>\n",
       "      <th>ReportVersion</th>\n",
       "      <th>CallerNum</th>\n",
       "      <th>CityName</th>\n",
       "      <th>CountyName</th>\n",
       "      <th>PostalCode</th>\n",
       "      <th>EnteredOn</th>\n",
       "      <th>BirthYear</th>\n",
       "      <th>Screening - Last Screening Date</th>\n",
       "      <th>Oral Care Encounter - What care was provided to the enrollee?</th>\n",
       "      <th>Site Information - Enroller ID</th>\n",
       "      <th>Site Information - Enroller Location</th>\n",
       "      <th>Treatment Plan - Is the treatment plan completed?</th>\n",
       "      <th>Treatment Plan - Was a treatment plan developed?</th>\n",
       "      <th>Treatment Plan - Was the enrollee able to be restored to function</th>\n",
       "      <th>Verification of Eligibility Transportation Arranged</th>\n",
       "      <th>Verification of Eligibility</th>\n",
       "    </tr>\n",
       "  </thead>\n",
       "  <tbody>\n",
       "    <tr>\n",
       "      <th>35116</th>\n",
       "      <td>59364969</td>\n",
       "      <td>SMILE ON 60+ Clinical</td>\n",
       "      <td>2511788</td>\n",
       "      <td>Lewisburg</td>\n",
       "      <td>Marshall</td>\n",
       "      <td>37091.0</td>\n",
       "      <td>1/10/2019 12:45</td>\n",
       "      <td>1937</td>\n",
       "      <td>1/8/2019</td>\n",
       "      <td>NaN</td>\n",
       "      <td>Interfaith Dental Clinic - Murfreesboro</td>\n",
       "      <td>Provider Site</td>\n",
       "      <td>Yes</td>\n",
       "      <td>Yes</td>\n",
       "      <td>Yes</td>\n",
       "      <td>No</td>\n",
       "      <td>Yes</td>\n",
       "    </tr>\n",
       "    <tr>\n",
       "      <th>35186</th>\n",
       "      <td>59355822</td>\n",
       "      <td>SMILE ON 60+ Clinical</td>\n",
       "      <td>2440677</td>\n",
       "      <td>Cleveland</td>\n",
       "      <td>Bradley</td>\n",
       "      <td>37323.0</td>\n",
       "      <td>1/10/2019 7:39</td>\n",
       "      <td>1951</td>\n",
       "      <td>NaN</td>\n",
       "      <td>No Code - Denture step Mandibular: may be used...</td>\n",
       "      <td>Karis Dental Clinic - Cleveland</td>\n",
       "      <td>Provider Site</td>\n",
       "      <td>Yes</td>\n",
       "      <td>NaN</td>\n",
       "      <td>Yes</td>\n",
       "      <td>NaN</td>\n",
       "      <td>NaN</td>\n",
       "    </tr>\n",
       "  </tbody>\n",
       "</table>\n",
       "</div>"
      ],
      "text/plain": [
       "       CallReportNum          ReportVersion  CallerNum   CityName CountyName  \\\n",
       "35116       59364969  SMILE ON 60+ Clinical    2511788  Lewisburg   Marshall   \n",
       "35186       59355822  SMILE ON 60+ Clinical    2440677  Cleveland    Bradley   \n",
       "\n",
       "       PostalCode        EnteredOn BirthYear Screening - Last Screening Date  \\\n",
       "35116     37091.0  1/10/2019 12:45      1937                        1/8/2019   \n",
       "35186     37323.0   1/10/2019 7:39      1951                             NaN   \n",
       "\n",
       "      Oral Care Encounter - What care was provided to the enrollee?  \\\n",
       "35116                                                NaN              \n",
       "35186  No Code - Denture step Mandibular: may be used...              \n",
       "\n",
       "                Site Information - Enroller ID  \\\n",
       "35116  Interfaith Dental Clinic - Murfreesboro   \n",
       "35186          Karis Dental Clinic - Cleveland   \n",
       "\n",
       "      Site Information - Enroller Location  \\\n",
       "35116                        Provider Site   \n",
       "35186                        Provider Site   \n",
       "\n",
       "      Treatment Plan - Is the treatment plan completed?  \\\n",
       "35116                                               Yes   \n",
       "35186                                               Yes   \n",
       "\n",
       "      Treatment Plan - Was a treatment plan developed?  \\\n",
       "35116                                              Yes   \n",
       "35186                                              NaN   \n",
       "\n",
       "      Treatment Plan - Was the enrollee able to be restored to function  \\\n",
       "35116                                                Yes                  \n",
       "35186                                                Yes                  \n",
       "\n",
       "      Verification of Eligibility Transportation Arranged  \\\n",
       "35116                                                 No    \n",
       "35186                                                NaN    \n",
       "\n",
       "      Verification of Eligibility  \n",
       "35116                         Yes  \n",
       "35186                         NaN  "
      ]
     },
     "execution_count": 19,
     "metadata": {},
     "output_type": "execute_result"
    }
   ],
   "source": [
    "patients_restored.head(2)"
   ]
  },
  {
   "cell_type": "code",
   "execution_count": 20,
   "metadata": {},
   "outputs": [],
   "source": [
    "patients_restored_yes = patients_restored[patients_restored[\"Treatment Plan - Was the enrollee able to be restored to function\"]=='Yes']\n",
    "patients_restored_no = patients_restored[patients_restored[\"Treatment Plan - Was the enrollee able to be restored to function\"]=='No']"
   ]
  },
  {
   "cell_type": "code",
   "execution_count": 21,
   "metadata": {},
   "outputs": [],
   "source": [
    "yes = patients_restored_yes['Site Information - Enroller ID'].value_counts().to_frame().reset_index()"
   ]
  },
  {
   "cell_type": "code",
   "execution_count": 22,
   "metadata": {},
   "outputs": [],
   "source": [
    "no = patients_restored_no['Site Information - Enroller ID'].value_counts().to_frame().reset_index()"
   ]
  },
  {
   "cell_type": "code",
   "execution_count": 23,
   "metadata": {},
   "outputs": [],
   "source": [
    "combo = pd.merge(yes, no, on = 'index')"
   ]
  },
  {
   "cell_type": "code",
   "execution_count": 24,
   "metadata": {},
   "outputs": [],
   "source": [
    "combo['total'] = combo['Site Information - Enroller ID_x'] + combo['Site Information - Enroller ID_y']"
   ]
  },
  {
   "cell_type": "code",
   "execution_count": 25,
   "metadata": {},
   "outputs": [],
   "source": [
    "combo['percentage'] = (combo['Site Information - Enroller ID_x']/combo['total'])*100"
   ]
  },
  {
   "cell_type": "code",
   "execution_count": 26,
   "metadata": {},
   "outputs": [
    {
     "data": {
      "text/html": [
       "<div>\n",
       "<style scoped>\n",
       "    .dataframe tbody tr th:only-of-type {\n",
       "        vertical-align: middle;\n",
       "    }\n",
       "\n",
       "    .dataframe tbody tr th {\n",
       "        vertical-align: top;\n",
       "    }\n",
       "\n",
       "    .dataframe thead th {\n",
       "        text-align: right;\n",
       "    }\n",
       "</style>\n",
       "<table border=\"1\" class=\"dataframe\">\n",
       "  <thead>\n",
       "    <tr style=\"text-align: right;\">\n",
       "      <th></th>\n",
       "      <th>index</th>\n",
       "      <th>Site Information - Enroller ID_x</th>\n",
       "      <th>Site Information - Enroller ID_y</th>\n",
       "      <th>total</th>\n",
       "      <th>percentage</th>\n",
       "    </tr>\n",
       "  </thead>\n",
       "  <tbody>\n",
       "    <tr>\n",
       "      <th>0</th>\n",
       "      <td>Church Health Center - Memphis</td>\n",
       "      <td>348</td>\n",
       "      <td>169</td>\n",
       "      <td>517</td>\n",
       "      <td>67.311412</td>\n",
       "    </tr>\n",
       "    <tr>\n",
       "      <th>1</th>\n",
       "      <td>Interfaith Dental Clinic - Nashville</td>\n",
       "      <td>346</td>\n",
       "      <td>276</td>\n",
       "      <td>622</td>\n",
       "      <td>55.627010</td>\n",
       "    </tr>\n",
       "  </tbody>\n",
       "</table>\n",
       "</div>"
      ],
      "text/plain": [
       "                                  index  Site Information - Enroller ID_x  \\\n",
       "0        Church Health Center - Memphis                               348   \n",
       "1  Interfaith Dental Clinic - Nashville                               346   \n",
       "\n",
       "   Site Information - Enroller ID_y  total  percentage  \n",
       "0                               169    517   67.311412  \n",
       "1                               276    622   55.627010  "
      ]
     },
     "execution_count": 26,
     "metadata": {},
     "output_type": "execute_result"
    }
   ],
   "source": [
    "combo.head(2)"
   ]
  },
  {
   "cell_type": "code",
   "execution_count": 27,
   "metadata": {},
   "outputs": [],
   "source": [
    "combo.columns=['location','restored_yes','restored_no','total','percentage']"
   ]
  },
  {
   "cell_type": "markdown",
   "metadata": {},
   "source": [
    "### New DF with success of restoration to function"
   ]
  },
  {
   "cell_type": "code",
   "execution_count": 28,
   "metadata": {},
   "outputs": [],
   "source": [
    "combo_5 = combo.head()"
   ]
  },
  {
   "cell_type": "code",
   "execution_count": 29,
   "metadata": {},
   "outputs": [
    {
     "data": {
      "text/html": [
       "<div>\n",
       "<style scoped>\n",
       "    .dataframe tbody tr th:only-of-type {\n",
       "        vertical-align: middle;\n",
       "    }\n",
       "\n",
       "    .dataframe tbody tr th {\n",
       "        vertical-align: top;\n",
       "    }\n",
       "\n",
       "    .dataframe thead th {\n",
       "        text-align: right;\n",
       "    }\n",
       "</style>\n",
       "<table border=\"1\" class=\"dataframe\">\n",
       "  <thead>\n",
       "    <tr style=\"text-align: right;\">\n",
       "      <th></th>\n",
       "      <th>location</th>\n",
       "      <th>restored_yes</th>\n",
       "      <th>restored_no</th>\n",
       "      <th>total</th>\n",
       "      <th>percentage</th>\n",
       "    </tr>\n",
       "  </thead>\n",
       "  <tbody>\n",
       "    <tr>\n",
       "      <th>0</th>\n",
       "      <td>Church Health Center - Memphis</td>\n",
       "      <td>348</td>\n",
       "      <td>169</td>\n",
       "      <td>517</td>\n",
       "      <td>67.311412</td>\n",
       "    </tr>\n",
       "    <tr>\n",
       "      <th>1</th>\n",
       "      <td>Interfaith Dental Clinic - Nashville</td>\n",
       "      <td>346</td>\n",
       "      <td>276</td>\n",
       "      <td>622</td>\n",
       "      <td>55.627010</td>\n",
       "    </tr>\n",
       "    <tr>\n",
       "      <th>2</th>\n",
       "      <td>Interfaith Dental Clinic - Murfreesboro</td>\n",
       "      <td>233</td>\n",
       "      <td>195</td>\n",
       "      <td>428</td>\n",
       "      <td>54.439252</td>\n",
       "    </tr>\n",
       "    <tr>\n",
       "      <th>3</th>\n",
       "      <td>Healing Hands Health Center - Bristol</td>\n",
       "      <td>188</td>\n",
       "      <td>54</td>\n",
       "      <td>242</td>\n",
       "      <td>77.685950</td>\n",
       "    </tr>\n",
       "    <tr>\n",
       "      <th>4</th>\n",
       "      <td>Friends in Need Health Center - Kingsport</td>\n",
       "      <td>171</td>\n",
       "      <td>36</td>\n",
       "      <td>207</td>\n",
       "      <td>82.608696</td>\n",
       "    </tr>\n",
       "  </tbody>\n",
       "</table>\n",
       "</div>"
      ],
      "text/plain": [
       "                                    location  restored_yes  restored_no  \\\n",
       "0             Church Health Center - Memphis           348          169   \n",
       "1       Interfaith Dental Clinic - Nashville           346          276   \n",
       "2    Interfaith Dental Clinic - Murfreesboro           233          195   \n",
       "3      Healing Hands Health Center - Bristol           188           54   \n",
       "4  Friends in Need Health Center - Kingsport           171           36   \n",
       "\n",
       "   total  percentage  \n",
       "0    517   67.311412  \n",
       "1    622   55.627010  \n",
       "2    428   54.439252  \n",
       "3    242   77.685950  \n",
       "4    207   82.608696  "
      ]
     },
     "execution_count": 29,
     "metadata": {},
     "output_type": "execute_result"
    }
   ],
   "source": [
    "combo_5"
   ]
  },
  {
   "cell_type": "code",
   "execution_count": 30,
   "metadata": {},
   "outputs": [
    {
     "data": {
      "image/png": "[encoded data removed]",
      "text/plain": [
       "<Figure size 504x360 with 1 Axes>"
      ]
     },
     "metadata": {},
     "output_type": "display_data"
    }
   ],
   "source": [
    "sns.set_theme(style=\"whitegrid\")\n",
    "\n",
    "# Initialize the matplotlib figure\n",
    "f, ax = plt.subplots(figsize=(7, 5))\n",
    "\n",
    "# Plot total\n",
    "sns.set_color_codes(\"pastel\")\n",
    "sns.barplot(x=\"total\", y=\"location\", data=combo_5,\n",
    "            label=\"Total\", color=\"lightsteelblue\")\n",
    "\n",
    "# Plot the restored cases\n",
    "sns.set_color_codes(\"pastel\")\n",
    "sns.barplot(x=\"restored_yes\", y=\"location\", data=combo_5,\n",
    "            label=\"Restored\", color=\"b\")\n",
    "\n",
    "# Plot the failed to restored cases\n",
    "sns.set_color_codes(\"muted\")\n",
    "sns.barplot(x=\"restored_no\", y=\"location\", data=combo_5,\n",
    "            label=\"Not Restored\", color=\"b\")\n",
    "\n",
    "# Plot Percentage\n",
    "sns.set_color_codes(\"muted\")\n",
    "sns.barplot(x=\"percentage\", y=\"location\", data=combo_5,\n",
    "            label=\"Percentage\", color=\"steelblue\")\n",
    "\n",
    "# Add a legend and informative axis label\n",
    "ax.legend(ncol=1, loc=\"lower right\", frameon=True)\n",
    "ax.set(xlim=(15, 650), ylabel=\"\",\n",
    "       xlabel=\"Number of Restored and Failed to Restore\")\n",
    "sns.despine(left=True, bottom=True)"
   ]
  },
  {
   "cell_type": "code",
   "execution_count": 31,
   "metadata": {
    "scrolled": false
   },
   "outputs": [
    {
     "data": {
      "image/png": "[encoded data removed]",
      "text/plain": [
       "<Figure size 720x432 with 2 Axes>"
      ]
     },
     "metadata": {},
     "output_type": "display_data"
    }
   ],
   "source": [
    "#Create combo chart\n",
    "fig, ax1 = plt.subplots(figsize=(10,6))\n",
    "color = 'tab:green'\n",
    "#bar plot creation\n",
    "ax1.set_title('Percentage of Restoration', fontsize=16)\n",
    "ax1.set_xlabel('location', fontsize=16)\n",
    "ax1.set_ylabel('restoration_yes', fontsize=16)\n",
    "ax1 = sns.barplot(x='location', y='restored_yes', data = combo_5, palette='summer')\n",
    "ax1.tick_params()\n",
    "#specify we want to share the same x-axis\n",
    "ax2 = ax1.twinx()\n",
    "color = 'tab:blue'\n",
    "#line plot creation\n",
    "ax2.set_ylabel('Percentage of Restoration', fontsize=16)\n",
    "ax2 = sns.lineplot(x='location', y='percentage', data = combo_5, sort=False, color=color)\n",
    "ax2.tick_params(axis='y', color=color)\n",
    "#show plot\n",
    "plt.show()\n"
   ]
  },
  {
   "cell_type": "code",
   "execution_count": 32,
   "metadata": {},
   "outputs": [
    {
     "data": {
      "text/plain": [
       "<AxesSubplot:>"
      ]
     },
     "execution_count": 32,
     "metadata": {},
     "output_type": "execute_result"
    },
    {
     "data": {
      "image/png": "[encoded data removed]",
      "text/plain": [
       "<Figure size 864x432 with 1 Axes>"
      ]
     },
     "metadata": {},
     "output_type": "display_data"
    }
   ],
   "source": [
    "from matplotlib.colors import ListedColormap\n",
    "\n",
    "combo_5.set_index('location')\\\n",
    "  .reindex(combo_5.set_index('location').sum().sort_values().index, axis=1)\\\n",
    "  .T.plot(kind='bar', stacked=True,\n",
    "          colormap=ListedColormap(sns.color_palette(\"GnBu\", 10)), \n",
    "          figsize=(12,6))"
   ]
  },
  {
   "cell_type": "code",
   "execution_count": 33,
   "metadata": {},
   "outputs": [
    {
     "name": "stdout",
     "output_type": "stream",
     "text": [
      "Church Health Center\n",
      "Memphis\n"
     ]
    }
   ],
   "source": [
    "print(re.sub(' - ', '\\n', 'Church Health Center - Memphis'))"
   ]
  },
  {
   "cell_type": "code",
   "execution_count": 34,
   "metadata": {},
   "outputs": [],
   "source": [
    "list=[]\n",
    "for index, row in combo_5.iterrows():\n",
    "    list.append(re.sub(' - ', '\\n', row['location']))"
   ]
  },
  {
   "cell_type": "code",
   "execution_count": 36,
   "metadata": {},
   "outputs": [
    {
     "name": "stderr",
     "output_type": "stream",
     "text": [
      "<ipython-input-36-f287779edcef>:1: SettingWithCopyWarning: \n",
      "A value is trying to be set on a copy of a slice from a DataFrame.\n",
      "Try using .loc[row_indexer,col_indexer] = value instead\n",
      "\n",
      "See the caveats in the documentation: https://pandas.pydata.org/pandas-docs/stable/user_guide/indexing.html#returning-a-view-versus-a-copy\n",
      "  combo_5['new'] = list\n"
     ]
    }
   ],
   "source": [
    "combo_5['new'] = list"
   ]
  },
  {
   "cell_type": "code",
   "execution_count": 37,
   "metadata": {},
   "outputs": [
    {
     "data": {
      "image/png": "[encoded data removed]",
      "text/plain": [
       "<Figure size 720x720 with 1 Axes>"
      ]
     },
     "metadata": {},
     "output_type": "display_data"
    }
   ],
   "source": [
    "# Use Seaborn's context settings to make fonts larger.\n",
    "sns.set_context('talk')\n",
    "\n",
    "# Create a grouped bar chart, with location as the x-axis\n",
    "# and number of patients as the variable we're grouping on so there\n",
    "# are two bars per location.\n",
    "fig, ax = plt.subplots(figsize=((10, 10)))\n",
    "\n",
    "# Our x-axis. We basically just want a list\n",
    "# of numbers from zero with a value for each\n",
    "# of our locations.\n",
    "x = np.arange(len(combo_5['new'].unique()))\n",
    "\n",
    "# Define bar width. We need this to offset the second bar.\n",
    "bar_width = 0.4\n",
    "\n",
    "b1 = ax.bar(x, combo_5['restored_yes'],\n",
    "            width=bar_width, label='restored')\n",
    "# Same thing, but offset the x.\n",
    "b2 = ax.bar(x + bar_width, combo_5['restored_no'],\n",
    "            width=bar_width, label='not restored')\n",
    "\n",
    "# Fix the x-axes.\n",
    "ax.set_xticks(x + bar_width / 2)\n",
    "ax.set_xticklabels(combo_5['new'].unique())\n",
    "plt.xticks(rotation=90, fontsize = 14)\n",
    "\n",
    "# Add legend.\n",
    "ax.legend()\n",
    "\n",
    "# Axis styling.\n",
    "ax.spines['top'].set_visible(False)\n",
    "ax.spines['right'].set_visible(False)\n",
    "ax.spines['left'].set_visible(False)\n",
    "ax.spines['bottom'].set_color('#DDDDDD')\n",
    "ax.tick_params(bottom=False, left=False)\n",
    "ax.set_axisbelow(True)\n",
    "ax.yaxis.grid(True, color='#EEEEEE')\n",
    "ax.xaxis.grid(False)\n",
    "\n",
    "# Add axis and chart labels.\n",
    "#ax.set_xlabel('Location', labelpad=15, fontsize=12)\n",
    "ax.set_ylabel('Patients', labelpad=15, fontsize=14)\n",
    "plt.yticks(fontsize=13)\n",
    "ax.set_title('Clinic Locations with the Most Restored Patients', pad=15)\n",
    "\n",
    "fig.tight_layout()"
   ]
  },
  {
   "cell_type": "code",
   "execution_count": null,
   "metadata": {},
   "outputs": [],
   "source": [
    "patients_restored['Treatment Plan - Was the enrollee able to be restored to function'].value_counts()"
   ]
  },
  {
   "cell_type": "markdown",
   "metadata": {},
   "source": [
    "### End of group code"
   ]
  },
  {
   "cell_type": "code",
   "execution_count": null,
   "metadata": {},
   "outputs": [],
   "source": [
    "#so_1['PostalCode']=np.int64(so_1['PostalCode'])"
   ]
  },
  {
   "cell_type": "code",
   "execution_count": null,
   "metadata": {},
   "outputs": [],
   "source": [
    "#so_1[['DateEntered','Time']] = so_1.EnteredOn.str.split(\" \", expand=True)\n"
   ]
  },
  {
   "cell_type": "code",
   "execution_count": null,
   "metadata": {},
   "outputs": [],
   "source": [
    "#pd.to_datetime(so_1['EnteredOn'])"
   ]
  },
  {
   "cell_type": "markdown",
   "metadata": {},
   "source": [
    "### EDA on city_info"
   ]
  },
  {
   "cell_type": "code",
   "execution_count": null,
   "metadata": {},
   "outputs": [],
   "source": [
    "city_info.head(1)"
   ]
  },
  {
   "cell_type": "code",
   "execution_count": null,
   "metadata": {},
   "outputs": [],
   "source": [
    "city_info=city_info[city_info[\"StateAbbr\"].isin([\"TN\"])]\n",
    "city_info.head(1)"
   ]
  },
  {
   "cell_type": "code",
   "execution_count": null,
   "metadata": {},
   "outputs": [],
   "source": [
    "city_teeth=city_info[city_info[\"Measure\"].isin([\"All teeth lost among adults aged >=65 Years\"])]"
   ]
  },
  {
   "cell_type": "code",
   "execution_count": null,
   "metadata": {},
   "outputs": [],
   "source": [
    "city_teeth=city_teeth[city_teeth['GeographicLevel'].isin(['City'])]"
   ]
  },
  {
   "cell_type": "code",
   "execution_count": null,
   "metadata": {},
   "outputs": [],
   "source": [
    "pd.set_option('display.max_columns', None)\n",
    "city_teeth.head()"
   ]
  },
  {
   "cell_type": "code",
   "execution_count": null,
   "metadata": {},
   "outputs": [],
   "source": [
    "city_teeth[['CityName','Data_Value_Type','Data_Value','Low_Confidence_Limit','High_Confidence_Limit','PopulationCount','GeoLocation']]"
   ]
  },
  {
   "cell_type": "code",
   "execution_count": null,
   "metadata": {},
   "outputs": [],
   "source": [
    "tooth_loss_chart = city_info_tn_teeth_loss.iloc[:, 0:18].sort_values(by='CityName')\n",
    "tooth_loss_chart = tooth_loss_chart.sort_values(by='Data_Value')"
   ]
  },
  {
   "cell_type": "code",
   "execution_count": null,
   "metadata": {},
   "outputs": [],
   "source": [
    "#Chart of major cities in TN - percentage of adults over 65 with all teeth loss\n",
    "#sns.set(style=\"whitegrid\")\n",
    "#f, ax = plt.subplots(figsize=(12, 10))\n",
    "#sns.set_color_codes(\"pastel\")\n",
    "#sns.barplot(y=\"CityName\", x=\"Data_Value\", data=tooth_loss_chart,\n",
    "#            label=\"Total\", color=\"b\")"
   ]
  },
  {
   "cell_type": "markdown",
   "metadata": {},
   "source": [
    "### Data for Smile_on Locations"
   ]
  },
  {
   "cell_type": "code",
   "execution_count": null,
   "metadata": {},
   "outputs": [],
   "source": [
    "#location_number,Facility,Address,Zip,City,full_address,geometry\n",
    "#1,Matthew Walker Comprehensive Health Center Inc. - Nashville,1035 14th Ave N,37208,Nashville,\"1035 14th Ave N, Nashville, TN 37208\",POINT (-86.80084302487185 36.17025203391616)\n",
    "#2,Friends in Need Health Center - Kingsport,1105 W Stone Dr # 5,37660,Kingsport,\"1105 W Stone Dr # 5, Kingsport, TN 37660\",POINT (-82.57384074423052 36.5585389343394)\n",
    "#3,Christ Community Health Services- Frayser,969 Frayser Blvd,38127,Memphis,\"969 Frayser Blvd, Memphis, TN 38127\",POINT (-90.0314368977358 35.2171344409435)\n",
    "#4,Neighborhood Health - Lebanon,217 E High St #200,37087,Lebanon,\"217 E High St, Lebanon, TN 37087\",POINT (-86.2865960042697 36.2120914257803)\n",
    "#5,Christ Community Health Services- Raleigh,3481 Austin Peay Hwy,38128,Memphis,\"3481 Austin Peay Hwy, Memphis, TN 38128\",POINT (-89.9098503 35.22059489999999)\n",
    "#6,Karis Dental Clinic - Cleveland,254 Broad St SW,37311,Cleveland,\"254 Broad St SW, Cleveland, TN 37311\",POINT (-84.8763672 35.1603295)\n",
    "#7,Interfaith Health Clinic of Knoxville - Knoxville,315 Gill Ave,37917,Knoxville,\"315 Gill Ave, Knoxville, TN 37917\",POINT (-83.92318673164472 35.97956618278549)\n",
    "#8,TDH - Maury Co,1909 Hampshire Pike,38401,Columbia,\"1909 Hampshire Pike, Columbia, TN 38401\",POINT (-87.11665865663535 35.617672592277)\n",
    "#9,Knox County CAC/Office on Aging - Knoxville,2247 Western Ave,37921,Knoxville,\"2247 Western Ave, Knoxville, TN 37921\",POINT (-83.95758813144016 35.97349750933064)\n",
    "#10,Christ Community Health Services- Broad Avenue,\"2861 Broad Ave, Memphis\",38112,Memphis,\"2861 Broad Ave, Memphis, TN 38112\",POINT (-89.965825 35.1473565)\n",
    "#11,TDH - Lawrence Co,1065 East Broad Street,39654,Monticello,\"2379 Buffalo Rd,  Lawrenceburg, TN 38464\",POINT (-87.34165900000001 35.2727605)\n",
    "#12,Church Health Center - Memphis,1350 Concourse Ave Suite 142,38104,Memphis,\"1350 Concourse Ave, Memphis, TN 38104\",POINT (-90.0151935387112 35.15222195)\n",
    "#13,Northeast Tennessee Community Health Centers Inc. - Johnson City,2151 Century Ln,37604,Johnson City,\"2151 Century Ln, Johnson City, TN 37604\",POINT (-82.38793847805117 36.30841432803959)\n",
    "#14,Christ Community Health Services- Hickory Hill,5366 Mendenhall Mall,38115,Memphis,\"5366 Winchester Road, Memphis, TN 38115\",POINT (-89.88457150843355 35.05059223197942)\n",
    "#15,Matthew Walker - Clarksville,230 Dover Rd,37042,Clarksville,\"230 Dover Rd, Clarksville, TN 37042\",POINT (-87.39996755 36.5501441)\n",
    "#16,Healing Hands Health Center - Bristol,245 Midway Medical Park,37620,Bristol,\"245 Midway Medical Park, Bristol, TN 37620\",POINT (-82.21868762771174 36.59431717131044)\n",
    "#17,Interfaith Dental Clinic - Murfreesboro,210 Robert Rose Dr,37129,Murfreesboro,\"210 Robert Rose Dr, Murfreesboro, TN 37129\",POINT (-86.42861556655443 35.85340698367514)\n",
    "#18,Interfaith Dental Clinic - Nashville,600 Hill Ave,37210,Nashville,\"600 Hill Ave, Nashville, TN 37210\",POINT (-86.7328126 36.1374736)\n",
    "#19,Neighborhood Health - Napier/Nashville,107 Charles E Davis Blvd,37210,Nashville,\"107 Charles E Davis Blvd, Nashville, TN 37210\",POINT (-86.7621924 36.1506644)\n",
    "#20,Fifty Forward - Nashville,108 Donelson Pike,37214,Nashville,\"108 Donelson Pike, Nashville, TN 37214\",POINT (-86.66351968015677 36.16707246874534)\n",
    "#21,Mountain Hope Good Shepherd Clinic,312 Prince St,37862,Sevierville,\"312 Prince St, Sevierville, TN 37862\",POINT (-83.55930579299063 35.86425488114063)\n",
    "#22,Neighborhood Health - Cleveland Park/ Nashville,905 Main St,37206,Nashville,\"905 Main St, Nashville, TN 37206\",POINT (-86.75643844444444 36.17635522222223)\n",
    "#23,Christ Community Health Services- Third Street,3362 S 3rd St,38109,Memphis,\"3362 S 3rd St, Memphis, TN 38109\",POINT (-90.054885 35.1250516)\n",
    "#24,Keystone Dental Care Inc. - Johnson City,603 Bert St # 12,37601,Johnson City,\"603 Bert St # 12, Johnson City, TN 37601\",POINT (-82.34012726403817 36.32141530694033)\n",
    "#25,Smiles Inc. - South Pittsburg - serving Marion Grundy Franklin and Hamilton Counties,\"107 E 10th St, South\",37380,Pittsburg,\"107 E 10th St, South Pittsburg, TN 37380\",POINT (-85.71070614285715 35.00250248979592)\n",
    "#26,Trinity health ministries,1127 E Lamar Alexander Pkwy,37804,Maryville,\"1127 E Lamar Alexander Pkwy\n",
    "#Maryville, TN 37804\",POINT (-83.95506402977433 35.75510791518326)\n",
    "#27,Reelfoot Ministries - Obion,6923 Minnick Elbridge Rd,38240,Obion,\"6923 Minnick Elbridge Rd, Obion, TN 38240\",POINT (-89.39445085774751 36.27418589319058)\n",
    "#28,Neighborhood Health - Mission/Nashville,639 Lafayette St,37203,Nashville,\"639 Lafayette St, Nashville, TN 37203\",POINT (-86.77702071411413 36.15371975611001)\n",
    "#29,Neighborhood Health - Eastside/Nashville,905 Main St,37206,Nashville,\"905 Main St, Nashville, TN 37206\",POINT (-86.75643844444444 36.17635522222223)\n",
    "#30,Appalachian Miles for Smiles - Mobile,1105 W Stone Dr,37660,Kingsport,\"1105 W Stone Dr, Kingsport, TN 37660\",POINT (-82.57384074423052 36.5585389343394)\n",
    "#31,Meharry Mobile Dental Clinic,1818 Albion St,37208,Nashville,\"1818 Albion St, Nashville, TN 37208\",POINT (-86.8080112 36.1667039)"
   ]
  },
  {
   "cell_type": "code",
   "execution_count": null,
   "metadata": {},
   "outputs": [],
   "source": []
  }
 ],
 "metadata": {
  "kernelspec": {
   "display_name": "Python 3",
   "language": "python",
   "name": "python3"
  },
  "language_info": {
   "codemirror_mode": {
    "name": "ipython",
    "version": 3
   },
   "file_extension": ".py",
   "mimetype": "text/x-python",
   "name": "python",
   "nbconvert_exporter": "python",
   "pygments_lexer": "ipython3",
   "version": "3.8.5"
  }
 },
 "nbformat": 4,
 "nbformat_minor": 4
}
