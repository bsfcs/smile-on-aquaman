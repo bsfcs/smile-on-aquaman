{
 "cells": [
  {
   "cell_type": "code",
   "execution_count": 1,
   "metadata": {},
   "outputs": [],
   "source": [
    "import pandas as pd\n",
    "from matplotlib import pyplot as plt\n",
    "import seaborn as sns\n",
    "import numpy as np\n",
    "import re"
   ]
  },
  {
   "cell_type": "code",
   "execution_count": 2,
   "metadata": {},
   "outputs": [
    {
     "name": "stderr",
     "output_type": "stream",
     "text": [
      "C:\\Users\\heath\\anaconda3\\lib\\site-packages\\IPython\\core\\interactiveshell.py:3071: DtypeWarning: Columns (32,36,53,59,88,89,127,141,144,156,157,158,159) have mixed types.Specify dtype option on import or set low_memory=False.\n",
      "  has_raised = await self.run_ast_nodes(code_ast.body, cell_name,\n"
     ]
    }
   ],
   "source": [
    "smile_on = pd.read_csv('../data/SmileOn11.28.2020.csv', sep = ',', encoding='gbk', skiprows = 2)\n",
    "data_dict = pd.read_excel('../data/Data_Dictionary.xlsx')\n",
    "bill = pd.read_csv('../data/Medicare_Provider_Utilization_and_Payment_Data__Physician_and_Other_Supplier_PUF_CY2017 (1).csv')\n",
    "prov_out = pd.read_csv('../data/Provider_Outpatient_Hospital_Charge_Data_by_APC__CY2017.csv')\n",
    "city_info = pd.read_csv('../data/500_Cities__Local_Data_for_Better_Health__2019_release.csv')\n",
    "apc = pd.read_excel('../data/2020_October_Web_Addendum_B.10212020.xlsx', skiprows = 2)\n",
    "hcpcs = pd.read_excel('../data/2020_October_Web_Addendum_A.10212020.xlsx', skiprows = 1)"
   ]
  },
  {
   "cell_type": "markdown",
   "metadata": {},
   "source": [
    "## CDC Tooth Loss Data"
   ]
  },
  {
   "cell_type": "code",
   "execution_count": 3,
   "metadata": {},
   "outputs": [],
   "source": [
    "city_info_tn = city_info[city_info['StateAbbr'] == 'TN']\n",
    "city_info_tn_teeth_loss = city_info_tn[(city_info_tn['Measure'] == 'All teeth lost among adults aged >=65 Years') & (city_info_tn['GeographicLevel'] == 'City') & (city_info_tn['DataValueTypeID'] == 'AgeAdjPrv')]"
   ]
  },
  {
   "cell_type": "code",
   "execution_count": 4,
   "metadata": {},
   "outputs": [],
   "source": [
    "tooth_loss_chart = city_info_tn_teeth_loss.iloc[:, 0:18].sort_values(by='CityName')\n",
    "tooth_loss_chart = tooth_loss_chart.sort_values(by='Data_Value')"
   ]
  },
  {
   "cell_type": "code",
   "execution_count": 5,
   "metadata": {},
   "outputs": [
    {
     "data": {
      "text/plain": [
       "<matplotlib.axes._subplots.AxesSubplot at 0x207bdbdd730>"
      ]
     },
     "execution_count": 5,
     "metadata": {},
     "output_type": "execute_result"
    },
    {
     "data": {
      "image/png": "[encoded data removed]",
      "text/plain": [
       "<Figure size 864x720 with 1 Axes>"
      ]
     },
     "metadata": {},
     "output_type": "display_data"
    }
   ],
   "source": [
    "#Chart of major cities in TN - percentage of adults over 65 with all teeth loss\n",
    "sns.set(style=\"whitegrid\")\n",
    "f, ax = plt.subplots(figsize=(12, 10))\n",
    "sns.set_color_codes(\"pastel\")\n",
    "sns.barplot(y=\"CityName\", x=\"Data_Value\", data=tooth_loss_chart,\n",
    "            label=\"Total\", color=\"b\")"
   ]
  },
  {
   "cell_type": "markdown",
   "metadata": {},
   "source": [
    "## Smile On Data"
   ]
  },
  {
   "cell_type": "code",
   "execution_count": 6,
   "metadata": {},
   "outputs": [
    {
     "data": {
      "text/plain": [
       "(40032, 184)"
      ]
     },
     "execution_count": 6,
     "metadata": {},
     "output_type": "execute_result"
    }
   ],
   "source": [
    "smile_on.shape"
   ]
  },
  {
   "cell_type": "code",
   "execution_count": 7,
   "metadata": {},
   "outputs": [],
   "source": [
    "so_1 = smile_on[['CallReportNum', 'ReportVersion', 'CallerNum', 'CityName', 'CountyName', 'PostalCode', 'EnteredOn', 'Birth Year', 'SMILE ON 60+ Screening - Last Screening Date', 'SMILE ON 60+ Oral Care Encounter - What care was provided to the enrollee? (Select all that apply)', 'SMILE ON 60+ Site Information - Enroller ID', 'SMILE ON 60+ Site Information - Enroller Location', 'SMILE ON 60+ Treatment Plan - Is the treatment plan completed?', 'SMILE ON 60+ Treatment Plan - Was a treatment plan developed?', 'SMILE ON 60+ Treatment Plan - Was the enrollee able to be restored to function (can chew) and \"social six\" esthetics (top front six teeth are present and disease free)', 'SMILE ON 60+ Verification of Eligibility - Transportation Arranged', 'SMILE ON 60+ Verification of Eligibility - Verification of Eligibility']]"
   ]
  },
  {
   "cell_type": "code",
   "execution_count": 8,
   "metadata": {},
   "outputs": [
    {
     "name": "stdout",
     "output_type": "stream",
     "text": [
      "<class 'pandas.core.frame.DataFrame'>\n",
      "RangeIndex: 40032 entries, 0 to 40031\n",
      "Data columns (total 17 columns):\n",
      " #   Column                                                                                                                                                                   Non-Null Count  Dtype  \n",
      "---  ------                                                                                                                                                                   --------------  -----  \n",
      " 0   CallReportNum                                                                                                                                                            40032 non-null  int64  \n",
      " 1   ReportVersion                                                                                                                                                            40032 non-null  object \n",
      " 2   CallerNum                                                                                                                                                                40032 non-null  int64  \n",
      " 3   CityName                                                                                                                                                                 39404 non-null  object \n",
      " 4   CountyName                                                                                                                                                               39685 non-null  object \n",
      " 5   PostalCode                                                                                                                                                               37392 non-null  float64\n",
      " 6   EnteredOn                                                                                                                                                                40032 non-null  object \n",
      " 7   Birth Year                                                                                                                                                               40032 non-null  object \n",
      " 8   SMILE ON 60+ Screening - Last Screening Date                                                                                                                             14892 non-null  object \n",
      " 9   SMILE ON 60+ Oral Care Encounter - What care was provided to the enrollee? (Select all that apply)                                                                       24849 non-null  object \n",
      " 10  SMILE ON 60+ Site Information - Enroller ID                                                                                                                              32801 non-null  object \n",
      " 11  SMILE ON 60+ Site Information - Enroller Location                                                                                                                        27683 non-null  object \n",
      " 12  SMILE ON 60+ Treatment Plan - Is the treatment plan completed?                                                                                                           17535 non-null  object \n",
      " 13  SMILE ON 60+ Treatment Plan - Was a treatment plan developed?                                                                                                            17028 non-null  object \n",
      " 14  SMILE ON 60+ Treatment Plan - Was the enrollee able to be restored to function (can chew) and \"social six\" esthetics (top front six teeth are present and disease free)  14276 non-null  object \n",
      " 15  SMILE ON 60+ Verification of Eligibility - Transportation Arranged                                                                                                       5825 non-null   object \n",
      " 16  SMILE ON 60+ Verification of Eligibility - Verification of Eligibility                                                                                                   8718 non-null   object \n",
      "dtypes: float64(1), int64(2), object(14)\n",
      "memory usage: 5.2+ MB\n"
     ]
    }
   ],
   "source": [
    "so_1.info()"
   ]
  },
  {
   "cell_type": "code",
   "execution_count": 9,
   "metadata": {},
   "outputs": [],
   "source": [
    "so_1 = so_1.sort_values(by='CallerNum')"
   ]
  },
  {
   "cell_type": "code",
   "execution_count": 10,
   "metadata": {},
   "outputs": [],
   "source": [
    "so_1 = so_1[(so_1['CallerNum'] != -1) & (so_1['CallerNum'] != -2)]"
   ]
  },
  {
   "cell_type": "code",
   "execution_count": 11,
   "metadata": {},
   "outputs": [
    {
     "data": {
      "text/plain": [
       "Index(['CallReportNum', 'ReportVersion', 'CallerNum', 'CityName', 'CountyName',\n",
       "       'PostalCode', 'EnteredOn', 'Birth Year',\n",
       "       'Screening - Last Screening Date',\n",
       "       'Oral Care Encounter - What care was provided to the enrollee?',\n",
       "       'Site Information - Enroller ID',\n",
       "       'Site Information - Enroller Location',\n",
       "       'Treatment Plan - Is the treatment plan completed?',\n",
       "       'Treatment Plan - Was a treatment plan developed?',\n",
       "       'Treatment Plan - Was the enrollee able to be restored to function',\n",
       "       'Verification of Eligibility Transportation Arranged',\n",
       "       'Verification of Eligibility'],\n",
       "      dtype='object')"
      ]
     },
     "execution_count": 11,
     "metadata": {},
     "output_type": "execute_result"
    }
   ],
   "source": [
    "so_1.columns=['CallReportNum', 'ReportVersion', 'CallerNum', 'CityName', 'CountyName',\n",
    "       'PostalCode', 'EnteredOn', 'Birth Year',\n",
    "       'Screening - Last Screening Date',\n",
    "       'Oral Care Encounter - What care was provided to the enrollee?',\n",
    "       'Site Information - Enroller ID',\n",
    "       'Site Information - Enroller Location',\n",
    "       'Treatment Plan - Is the treatment plan completed?',\n",
    "       'Treatment Plan - Was a treatment plan developed?',\n",
    "       'Treatment Plan - Was the enrollee able to be restored to function',\n",
    "       'Verification of Eligibility Transportation Arranged',\n",
    "       'Verification of Eligibility']\n",
    "so_1.columns"
   ]
  },
  {
   "cell_type": "code",
   "execution_count": 12,
   "metadata": {},
   "outputs": [],
   "source": [
    "patients_restored = so_1[so_1['Treatment Plan - Was the enrollee able to be restored to function'].isin(['Yes', 'No'])]"
   ]
  },
  {
   "cell_type": "code",
   "execution_count": 13,
   "metadata": {},
   "outputs": [
    {
     "data": {
      "text/plain": [
       "(4575, 17)"
      ]
     },
     "execution_count": 13,
     "metadata": {},
     "output_type": "execute_result"
    }
   ],
   "source": [
    "patients_restored = patients_restored.sort_values(by = 'EnteredOn')\n",
    "patients_restored = patients_restored.drop_duplicates(['CallerNum'], keep='last')\n",
    "patients_restored.shape"
   ]
  },
  {
   "cell_type": "code",
   "execution_count": 14,
   "metadata": {},
   "outputs": [
    {
     "data": {
      "text/plain": [
       "Yes    2488\n",
       "No     2087\n",
       "Name: Treatment Plan - Was the enrollee able to be restored to function, dtype: int64"
      ]
     },
     "execution_count": 14,
     "metadata": {},
     "output_type": "execute_result"
    }
   ],
   "source": [
    "patients_restored['Treatment Plan - Was the enrollee able to be restored to function'].value_counts()"
   ]
  },
  {
   "cell_type": "code",
   "execution_count": 15,
   "metadata": {},
   "outputs": [],
   "source": [
    "patients_restored_yes = patients_restored[patients_restored['Treatment Plan - Was the enrollee able to be restored to function'] == 'Yes']\n",
    "patients_restored_no = patients_restored[patients_restored['Treatment Plan - Was the enrollee able to be restored to function'] == 'No']"
   ]
  },
  {
   "cell_type": "code",
   "execution_count": 16,
   "metadata": {},
   "outputs": [],
   "source": [
    "yes = patients_restored_yes['Site Information - Enroller ID'].value_counts().to_frame().reset_index()\n",
    "no = patients_restored_no['Site Information - Enroller ID'].value_counts().to_frame().reset_index()"
   ]
  },
  {
   "cell_type": "code",
   "execution_count": 17,
   "metadata": {},
   "outputs": [],
   "source": [
    "combo = pd.merge(yes, no, on = 'index')"
   ]
  },
  {
   "cell_type": "code",
   "execution_count": 18,
   "metadata": {},
   "outputs": [],
   "source": [
    "combo['total'] = combo['Site Information - Enroller ID_x'] + combo['Site Information - Enroller ID_y']"
   ]
  },
  {
   "cell_type": "code",
   "execution_count": 19,
   "metadata": {},
   "outputs": [],
   "source": [
    "combo['percentage'] = (combo['Site Information - Enroller ID_x']/combo['total'])*100"
   ]
  },
  {
   "cell_type": "code",
   "execution_count": 20,
   "metadata": {},
   "outputs": [],
   "source": [
    "combo.columns = ['location', 'restored_yes', 'restored_no', 'total', 'percentage' ]"
   ]
  },
  {
   "cell_type": "code",
   "execution_count": 21,
   "metadata": {},
   "outputs": [],
   "source": [
    "combo = combo.head()"
   ]
  },
  {
   "cell_type": "code",
   "execution_count": 22,
   "metadata": {},
   "outputs": [
    {
     "data": {
      "text/plain": [
       "<BarContainer object of 5 artists>"
      ]
     },
     "execution_count": 22,
     "metadata": {},
     "output_type": "execute_result"
    },
    {
     "data": {
      "image/png": "[encoded data removed]",
      "text/plain": [
       "<Figure size 432x288 with 1 Axes>"
      ]
     },
     "metadata": {},
     "output_type": "display_data"
    }
   ],
   "source": [
    "plt.barh('location', 'percentage', data = combo)"
   ]
  },
  {
   "cell_type": "code",
   "execution_count": 23,
   "metadata": {},
   "outputs": [
    {
     "name": "stdout",
     "output_type": "stream",
     "text": [
      "Church Health Center\n",
      "Memphis\n"
     ]
    }
   ],
   "source": [
    "print(re.sub(' - ', '\\n', 'Church Health Center - Memphis'))"
   ]
  },
  {
   "cell_type": "code",
   "execution_count": 24,
   "metadata": {},
   "outputs": [],
   "source": [
    "list = []\n",
    "for index, row in combo.iterrows():\n",
    "    list.append(re.sub(' - ', '\\n', row['location']))"
   ]
  },
  {
   "cell_type": "code",
   "execution_count": 25,
   "metadata": {},
   "outputs": [
    {
     "data": {
      "text/plain": [
       "['Church Health Center\\nMemphis',\n",
       " 'Interfaith Dental Clinic\\nNashville',\n",
       " 'Interfaith Dental Clinic\\nMurfreesboro',\n",
       " 'Healing Hands Health Center\\nBristol',\n",
       " 'Friends in Need Health Center\\nKingsport']"
      ]
     },
     "execution_count": 25,
     "metadata": {},
     "output_type": "execute_result"
    }
   ],
   "source": [
    "list"
   ]
  },
  {
   "cell_type": "code",
   "execution_count": 26,
   "metadata": {},
   "outputs": [],
   "source": [
    "combo['new'] = list"
   ]
  },
  {
   "cell_type": "code",
   "execution_count": 27,
   "metadata": {},
   "outputs": [
    {
     "data": {
      "image/png": "[encoded data removed]",
      "text/plain": [
       "<Figure size 720x720 with 1 Axes>"
      ]
     },
     "metadata": {},
     "output_type": "display_data"
    }
   ],
   "source": [
    "# Use Seaborn's context settings to make fonts larger.\n",
    "sns.set_context('talk')\n",
    "\n",
    "# Create a grouped bar chart, with location as the x-axis\n",
    "# and number of patients as the variable we're grouping on so there\n",
    "# are two bars per location.\n",
    "fig, ax = plt.subplots(figsize=((10, 10)))\n",
    "\n",
    "# Our x-axis. We basically just want a list\n",
    "# of numbers from zero with a value for each\n",
    "# of our locations.\n",
    "x = np.arange(len(combo['new'].unique()))\n",
    "\n",
    "# Define bar width. We need this to offset the second bar.\n",
    "bar_width = 0.4\n",
    "\n",
    "b1 = ax.bar(x, combo['restored_yes'],\n",
    "            width=bar_width, label='restored')\n",
    "# Same thing, but offset the x.\n",
    "b2 = ax.bar(x + bar_width, combo['restored_no'],\n",
    "            width=bar_width, label='not restored')\n",
    "\n",
    "# Fix the x-axes.\n",
    "ax.set_xticks(x + bar_width / 2)\n",
    "ax.set_xticklabels(combo['new'].unique())\n",
    "plt.xticks(rotation=90, fontsize = 14)\n",
    "\n",
    "# Add legend.\n",
    "ax.legend()\n",
    "\n",
    "# Axis styling.\n",
    "ax.spines['top'].set_visible(False)\n",
    "ax.spines['right'].set_visible(False)\n",
    "ax.spines['left'].set_visible(False)\n",
    "ax.spines['bottom'].set_color('#DDDDDD')\n",
    "ax.tick_params(bottom=False, left=False)\n",
    "ax.set_axisbelow(True)\n",
    "ax.yaxis.grid(True, color='#EEEEEE')\n",
    "ax.xaxis.grid(False)\n",
    "\n",
    "# Add axis and chart labels.\n",
    "#ax.set_xlabel('Location', labelpad=15, fontsize=12)\n",
    "ax.set_ylabel('Patients', labelpad=15, fontsize=14)\n",
    "plt.yticks(fontsize=13)\n",
    "ax.set_title('Clinic Locations with the Most Restored Patients', pad=15)\n",
    "\n",
    "fig.tight_layout()"
   ]
  },
  {
   "cell_type": "markdown",
   "metadata": {},
   "source": [
    "## Unique patients "
   ]
  },
  {
   "cell_type": "code",
   "execution_count": 28,
   "metadata": {},
   "outputs": [],
   "source": [
    "patients = so_1.drop_duplicates(['CallerNum'], keep='first')"
   ]
  },
  {
   "cell_type": "code",
   "execution_count": 29,
   "metadata": {},
   "outputs": [
    {
     "data": {
      "text/html": [
       "<div>\n",
       "<style scoped>\n",
       "    .dataframe tbody tr th:only-of-type {\n",
       "        vertical-align: middle;\n",
       "    }\n",
       "\n",
       "    .dataframe tbody tr th {\n",
       "        vertical-align: top;\n",
       "    }\n",
       "\n",
       "    .dataframe thead th {\n",
       "        text-align: right;\n",
       "    }\n",
       "</style>\n",
       "<table border=\"1\" class=\"dataframe\">\n",
       "  <thead>\n",
       "    <tr style=\"text-align: right;\">\n",
       "      <th></th>\n",
       "      <th>CallReportNum</th>\n",
       "      <th>ReportVersion</th>\n",
       "      <th>CallerNum</th>\n",
       "      <th>CityName</th>\n",
       "      <th>CountyName</th>\n",
       "      <th>PostalCode</th>\n",
       "      <th>EnteredOn</th>\n",
       "      <th>Birth Year</th>\n",
       "      <th>Screening - Last Screening Date</th>\n",
       "      <th>Oral Care Encounter - What care was provided to the enrollee?</th>\n",
       "      <th>Site Information - Enroller ID</th>\n",
       "      <th>Site Information - Enroller Location</th>\n",
       "      <th>Treatment Plan - Is the treatment plan completed?</th>\n",
       "      <th>Treatment Plan - Was a treatment plan developed?</th>\n",
       "      <th>Treatment Plan - Was the enrollee able to be restored to function</th>\n",
       "      <th>Verification of Eligibility Transportation Arranged</th>\n",
       "      <th>Verification of Eligibility</th>\n",
       "    </tr>\n",
       "  </thead>\n",
       "  <tbody>\n",
       "    <tr>\n",
       "      <th>937</th>\n",
       "      <td>80389848</td>\n",
       "      <td>SMILE ON 60+ Clinical</td>\n",
       "      <td>2061444</td>\n",
       "      <td>NaN</td>\n",
       "      <td>NaN</td>\n",
       "      <td>NaN</td>\n",
       "      <td>10/30/2020 11:39</td>\n",
       "      <td>1900</td>\n",
       "      <td>NaN</td>\n",
       "      <td>NaN</td>\n",
       "      <td>Church Health Center - Memphis</td>\n",
       "      <td>NaN</td>\n",
       "      <td>NaN</td>\n",
       "      <td>NaN</td>\n",
       "      <td>NaN</td>\n",
       "      <td>NaN</td>\n",
       "      <td>NaN</td>\n",
       "    </tr>\n",
       "    <tr>\n",
       "      <th>40021</th>\n",
       "      <td>53601932</td>\n",
       "      <td>SMILE ON 60+ Clinical</td>\n",
       "      <td>2307186</td>\n",
       "      <td>Nashville</td>\n",
       "      <td>Davidson</td>\n",
       "      <td>37201.0</td>\n",
       "      <td>6/8/2018 8:21</td>\n",
       "      <td>4670</td>\n",
       "      <td>NaN</td>\n",
       "      <td>150 - Comprehensive Oral Evaluation -new or es...</td>\n",
       "      <td>Interfaith Dental Clinic - Murfreesboro</td>\n",
       "      <td>Senior Center</td>\n",
       "      <td>NaN</td>\n",
       "      <td>NaN</td>\n",
       "      <td>NaN</td>\n",
       "      <td>Yes</td>\n",
       "      <td>Yes</td>\n",
       "    </tr>\n",
       "    <tr>\n",
       "      <th>31972</th>\n",
       "      <td>61675197</td>\n",
       "      <td>SMILE ON 60+ Clinical</td>\n",
       "      <td>2384106</td>\n",
       "      <td>Murfreesboro</td>\n",
       "      <td>Rutherford</td>\n",
       "      <td>37130.0</td>\n",
       "      <td>3/29/2019 10:56</td>\n",
       "      <td>1944</td>\n",
       "      <td>8/1/2018</td>\n",
       "      <td>330 - Panoramic film - 5; 7210 - Extraction su...</td>\n",
       "      <td>Interfaith Dental Clinic - Murfreesboro</td>\n",
       "      <td>NaN</td>\n",
       "      <td>NaN</td>\n",
       "      <td>NaN</td>\n",
       "      <td>NaN</td>\n",
       "      <td>NaN</td>\n",
       "      <td>NaN</td>\n",
       "    </tr>\n",
       "    <tr>\n",
       "      <th>38122</th>\n",
       "      <td>57056425</td>\n",
       "      <td>SMILE ON 60+ Clinical</td>\n",
       "      <td>2384744</td>\n",
       "      <td>Nashville</td>\n",
       "      <td>Davidson</td>\n",
       "      <td>37211.0</td>\n",
       "      <td>10/11/2018 19:40</td>\n",
       "      <td>1954</td>\n",
       "      <td>8/1/2018</td>\n",
       "      <td>1330 - Oral Hygiene Instructions - ; 1206 - ap...</td>\n",
       "      <td>Interfaith Dental Clinic - Nashville</td>\n",
       "      <td>NaN</td>\n",
       "      <td>NaN</td>\n",
       "      <td>Yes</td>\n",
       "      <td>NaN</td>\n",
       "      <td>NaN</td>\n",
       "      <td>NaN</td>\n",
       "    </tr>\n",
       "    <tr>\n",
       "      <th>37124</th>\n",
       "      <td>57788255</td>\n",
       "      <td>SMILE ON 60+ Clinical</td>\n",
       "      <td>2384833</td>\n",
       "      <td>Hartsville</td>\n",
       "      <td>Trousdale</td>\n",
       "      <td>37074.0</td>\n",
       "      <td>11/8/2018 10:18</td>\n",
       "      <td>1942</td>\n",
       "      <td>8/7/2018</td>\n",
       "      <td>No Code - Denture step Mandibular: may be used...</td>\n",
       "      <td>Interfaith Dental Clinic - Nashville</td>\n",
       "      <td>NaN</td>\n",
       "      <td>NaN</td>\n",
       "      <td>NaN</td>\n",
       "      <td>NaN</td>\n",
       "      <td>NaN</td>\n",
       "      <td>NaN</td>\n",
       "    </tr>\n",
       "  </tbody>\n",
       "</table>\n",
       "</div>"
      ],
      "text/plain": [
       "       CallReportNum          ReportVersion  CallerNum      CityName  \\\n",
       "937         80389848  SMILE ON 60+ Clinical    2061444           NaN   \n",
       "40021       53601932  SMILE ON 60+ Clinical    2307186     Nashville   \n",
       "31972       61675197  SMILE ON 60+ Clinical    2384106  Murfreesboro   \n",
       "38122       57056425  SMILE ON 60+ Clinical    2384744     Nashville   \n",
       "37124       57788255  SMILE ON 60+ Clinical    2384833    Hartsville   \n",
       "\n",
       "       CountyName  PostalCode         EnteredOn Birth Year  \\\n",
       "937           NaN         NaN  10/30/2020 11:39       1900   \n",
       "40021    Davidson     37201.0     6/8/2018 8:21       4670   \n",
       "31972  Rutherford     37130.0   3/29/2019 10:56       1944   \n",
       "38122    Davidson     37211.0  10/11/2018 19:40       1954   \n",
       "37124   Trousdale     37074.0   11/8/2018 10:18       1942   \n",
       "\n",
       "      Screening - Last Screening Date  \\\n",
       "937                               NaN   \n",
       "40021                             NaN   \n",
       "31972                        8/1/2018   \n",
       "38122                        8/1/2018   \n",
       "37124                        8/7/2018   \n",
       "\n",
       "      Oral Care Encounter - What care was provided to the enrollee?  \\\n",
       "937                                                  NaN              \n",
       "40021  150 - Comprehensive Oral Evaluation -new or es...              \n",
       "31972  330 - Panoramic film - 5; 7210 - Extraction su...              \n",
       "38122  1330 - Oral Hygiene Instructions - ; 1206 - ap...              \n",
       "37124  No Code - Denture step Mandibular: may be used...              \n",
       "\n",
       "                Site Information - Enroller ID  \\\n",
       "937             Church Health Center - Memphis   \n",
       "40021  Interfaith Dental Clinic - Murfreesboro   \n",
       "31972  Interfaith Dental Clinic - Murfreesboro   \n",
       "38122     Interfaith Dental Clinic - Nashville   \n",
       "37124     Interfaith Dental Clinic - Nashville   \n",
       "\n",
       "      Site Information - Enroller Location  \\\n",
       "937                                    NaN   \n",
       "40021                        Senior Center   \n",
       "31972                                  NaN   \n",
       "38122                                  NaN   \n",
       "37124                                  NaN   \n",
       "\n",
       "      Treatment Plan - Is the treatment plan completed?  \\\n",
       "937                                                 NaN   \n",
       "40021                                               NaN   \n",
       "31972                                               NaN   \n",
       "38122                                               NaN   \n",
       "37124                                               NaN   \n",
       "\n",
       "      Treatment Plan - Was a treatment plan developed?  \\\n",
       "937                                                NaN   \n",
       "40021                                              NaN   \n",
       "31972                                              NaN   \n",
       "38122                                              Yes   \n",
       "37124                                              NaN   \n",
       "\n",
       "      Treatment Plan - Was the enrollee able to be restored to function  \\\n",
       "937                                                  NaN                  \n",
       "40021                                                NaN                  \n",
       "31972                                                NaN                  \n",
       "38122                                                NaN                  \n",
       "37124                                                NaN                  \n",
       "\n",
       "      Verification of Eligibility Transportation Arranged  \\\n",
       "937                                                  NaN    \n",
       "40021                                                Yes    \n",
       "31972                                                NaN    \n",
       "38122                                                NaN    \n",
       "37124                                                NaN    \n",
       "\n",
       "      Verification of Eligibility  \n",
       "937                           NaN  \n",
       "40021                         Yes  \n",
       "31972                         NaN  \n",
       "38122                         NaN  \n",
       "37124                         NaN  "
      ]
     },
     "execution_count": 29,
     "metadata": {},
     "output_type": "execute_result"
    }
   ],
   "source": [
    "patients.head()"
   ]
  },
  {
   "cell_type": "code",
   "execution_count": 30,
   "metadata": {},
   "outputs": [],
   "source": [
    "patients_city = patients.groupby('CityName').size()"
   ]
  },
  {
   "cell_type": "code",
   "execution_count": 32,
   "metadata": {},
   "outputs": [
    {
     "data": {
      "text/plain": [
       "CityName\n",
       "1450830        1\n",
       "Adamsville     1\n",
       "Afton          3\n",
       "Alamo          1\n",
       "Alcoa          8\n",
       "              ..\n",
       "Williston      1\n",
       "Winchester    16\n",
       "Woodbine       7\n",
       "Woodbury      40\n",
       "Woodlawn       7\n",
       "Length: 387, dtype: int64"
      ]
     },
     "execution_count": 32,
     "metadata": {},
     "output_type": "execute_result"
    }
   ],
   "source": [
    "patients_city"
   ]
  },
  {
   "cell_type": "code",
   "execution_count": null,
   "metadata": {},
   "outputs": [],
   "source": []
  }
 ],
 "metadata": {
  "kernelspec": {
   "display_name": "Python 3",
   "language": "python",
   "name": "python3"
  },
  "language_info": {
   "codemirror_mode": {
    "name": "ipython",
    "version": 3
   },
   "file_extension": ".py",
   "mimetype": "text/x-python",
   "name": "python",
   "nbconvert_exporter": "python",
   "pygments_lexer": "ipython3",
   "version": "3.8.3"
  }
 },
 "nbformat": 4,
 "nbformat_minor": 4
}
